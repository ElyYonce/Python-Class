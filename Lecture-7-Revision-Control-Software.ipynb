{
 "metadata": {
  "name": "",
  "signature": "sha256:d0a76a63f3623eed130e524b9b9a198a6b63e5e3065f61e683f3ae6b832f8cff"
 },
 "nbformat": 3,
 "nbformat_minor": 0,
 "worksheets": [
  {
   "cells": [
    {
     "cell_type": "heading",
     "level": 1,
     "metadata": {},
     "source": [
      "Revision control software"
     ]
    },
    {
     "cell_type": "markdown",
     "metadata": {},
     "source": []
    },
    {
     "cell_type": "code",
     "collapsed": false,
     "input": [
      "from IPython.display import Image"
     ],
     "language": "python",
     "metadata": {},
     "outputs": [],
     "prompt_number": 13
    },
    {
     "cell_type": "markdown",
     "metadata": {},
     "source": [
      "In any software development, one of the most important tools are revision control software (RCS).\n",
      "\n",
      "They are used in virtually all software development and in all environments, by everyone and everywhere (no kidding!)\n",
      "\n",
      "RCS can used on almost any digital content, so it is not only restricted to software development, and is also very useful for manuscript files, figures, data and notebooks!\n",
      "\n"
     ]
    },
    {
     "cell_type": "heading",
     "level": 2,
     "metadata": {},
     "source": [
      "There are two main purposes of RCS systems:"
     ]
    },
    {
     "cell_type": "markdown",
     "metadata": {},
     "source": [
      "1. Keep track of changes in the source code.\n",
      "    * Allow reverting back to an older revision if something goes wrong.\n",
      "    * Work on several \"branches\" of the software concurrently.\n",
      "    * Tags revisions to keep track of which version of the software that was used for what (for example, \"release-1.0\", \"paper-A-final\", ...)\n",
      "2. Make it possible for serveral people to collaboratively work on the same code base simultaneously.\n",
      "    * Allow many authors to make changes to the code.\n",
      "    * Clearly communicating and visualizing changes in the code base to everyone involved."
     ]
    },
    {
     "cell_type": "heading",
     "level": 2,
     "metadata": {},
     "source": [
      "Basic principles and terminology for RCS systems"
     ]
    },
    {
     "cell_type": "markdown",
     "metadata": {},
     "source": [
      "In an RCS, the source code or digital content is stored in a **repository**. \n",
      "\n",
      "* The repository does not only contain the latest version of all files, but the complete history of all changes to the files since they were added to the repository. \n",
      "\n",
      "* A user can **checkout** the repository, and obtain a local working copy of the files. All changes are made to the files in the local working directory, where files can be added, removed and updated. \n",
      "\n",
      "* When a task has been completed, the changes to the local files are **commited** (saved to the repository).\n",
      "\n",
      "* If someone else has been making changes to the same files, a **conflict** can occur. In many cases conflicts can be **resolved** automatically by the system, but in some cases we might manually have to **merge** different changes together.\n",
      "\n",
      "* It is often useful to create a new **branch** in a repository, or a **fork** or **clone** of an entire repository, when we doing larger experimental development. The main branch in a repository is called often **master** or **trunk**. When work on a branch or fork is completed, it can be merged in to the master branch/repository.\n",
      "\n",
      "* With distributed RCSs such as GIT or Mercurial, we can **pull** and **push** changesets between different repositories. For example, between a local copy of there repository to a central online reposistory (for example on a community repository host site like github.com)."
     ]
    },
    {
     "cell_type": "heading",
     "level": 3,
     "metadata": {},
     "source": [
      "Some good RCS software"
     ]
    },
    {
     "cell_type": "markdown",
     "metadata": {},
     "source": [
      "1. GIT (`git`) : http://git-scm.com/\n",
      "2. Mercurial (`hg`) : http://mercurial.selenic.com/\n",
      "\n",
      "In the rest of this lecture we will look at `git`, although `hg` is just as good and work in almost exactly the same way."
     ]
    },
    {
     "cell_type": "heading",
     "level": 2,
     "metadata": {},
     "source": [
      "Installing git"
     ]
    },
    {
     "cell_type": "markdown",
     "metadata": {},
     "source": [
      "On Linux:\n",
      "    \n",
      "    $ sudo apt-get install git\n",
      "\n",
      "On Mac (with macports):\n",
      "\n",
      "    $ sudo port install git\n",
      "\n",
      "The first time you start to use git, you'll need to configure your author information:\n",
      "\n",
      "    $ git config --global user.name 'Robert Johansson'\n",
      "    $ git config --global user.email robert@riken.jp"
     ]
    },
    {
     "cell_type": "heading",
     "level": 2,
     "metadata": {},
     "source": [
      "Creating and cloning a repository"
     ]
    },
    {
     "cell_type": "markdown",
     "metadata": {},
     "source": [
      "To create a brand new empty repository, we can use the command `git init repository-name`:"
     ]
    },
    {
     "cell_type": "code",
     "collapsed": false,
     "input": [
      "# create a new git repository called gitdemo:\n",
      "!git init gitdemo"
     ],
     "language": "python",
     "metadata": {},
     "outputs": [
      {
       "output_type": "stream",
       "stream": "stdout",
       "text": [
        "Reinitialized existing Git repository in /home/rob/Desktop/scientific-python-lectures/gitdemo/.git/\r\n"
       ]
      }
     ],
     "prompt_number": 4
    },
    {
     "cell_type": "markdown",
     "metadata": {},
     "source": [
      "If we want to fork or clone an existing repository, we can use the command `git clone repository`:"
     ]
    },
    {
     "cell_type": "code",
     "collapsed": false,
     "input": [
      "!git clone https://github.com/qutip/qutip"
     ],
     "language": "python",
     "metadata": {},
     "outputs": [
      {
       "output_type": "stream",
       "stream": "stdout",
       "text": [
        "Cloning into 'qutip'...\r\n"
       ]
      },
      {
       "output_type": "stream",
       "stream": "stdout",
       "text": [
        "remote: Counting objects: 7425, done.\r\n",
        "remote: Compressing objects: 100% (2013/2013), done.\r\n",
        "remote: Total 7425 (delta 5386), reused 7420 (delta 5381)\r\n",
        "Receiving objects: 100% (7425/7425), 2.25 MiB | 696 KiB/s, done.\r\n",
        "Resolving deltas: 100% (5386/5386), done.\r\n"
       ]
      }
     ],
     "prompt_number": 5
    },
    {
     "cell_type": "markdown",
     "metadata": {},
     "source": [
      "Git clone can take a URL to a public repository, like above, or a path to a local directory:"
     ]
    },
    {
     "cell_type": "code",
     "collapsed": false,
     "input": [
      "!git clone gitdemo gitdemo2"
     ],
     "language": "python",
     "metadata": {},
     "outputs": [
      {
       "output_type": "stream",
       "stream": "stdout",
       "text": [
        "Cloning into 'gitdemo2'...\r\n",
        "warning: You appear to have cloned an empty repository.\r\n",
        "done.\r\n"
       ]
      }
     ],
     "prompt_number": 6
    },
    {
     "cell_type": "markdown",
     "metadata": {},
     "source": [
      "We can also clone private repositories over secure protocols such as SSH:\n",
      "\n",
      "    $ git clone ssh://myserver.com/myrepository"
     ]
    },
    {
     "cell_type": "heading",
     "level": 2,
     "metadata": {},
     "source": [
      "Status"
     ]
    },
    {
     "cell_type": "markdown",
     "metadata": {},
     "source": [
      "Using the command `git status` we get a summary of the current status of the working directory. It shows if we have modified, added or removed files."
     ]
    },
    {
     "cell_type": "code",
     "collapsed": false,
     "input": [
      "!git status"
     ],
     "language": "python",
     "metadata": {},
     "outputs": [
      {
       "output_type": "stream",
       "stream": "stdout",
       "text": [
        "On branch master\r\n",
        "Your branch is up-to-date with 'origin/master'.\r\n",
        "\r\n",
        "Changes not staged for commit:\r\n",
        "  (use \"git add <file>...\" to update what will be committed)\r\n",
        "  (use \"git checkout -- <file>...\" to discard changes in working directory)\r\n",
        "\r\n",
        "\t\u001b[31mmodified:   Lecture-0-Scientific-Computing-with-Python.ipynb\u001b[m\r\n",
        "\t\u001b[31mmodified:   Lecture-1-Introduction-to-Python-Programming.ipynb\u001b[m\r\n",
        "\t\u001b[31mmodified:   Lecture-2-Numpy.ipynb\u001b[m\r\n",
        "\t\u001b[31mmodified:   Lecture-3-Scipy.ipynb\u001b[m\r\n",
        "\t\u001b[31mmodified:   Lecture-4-Matplotlib.ipynb\u001b[m\r\n",
        "\t\u001b[31mmodified:   Lecture-5-Sympy.ipynb\u001b[m\r\n",
        "\t\u001b[31mmodified:   Lecture-7-Revision-Control-Software.ipynb\u001b[m\r\n",
        "\r\n",
        "Untracked files:\r\n",
        "  (use \"git add <file>...\" to include in what will be committed)\r\n",
        "\r\n",
        "\t\u001b[31m.ipynb_checkpoints/\u001b[m\r\n",
        "\t\u001b[31mtest.svg\u001b[m\r\n",
        "\r\n",
        "no changes added to commit (use \"git add\" and/or \"git commit -a\")\r\n"
       ]
      }
     ],
     "prompt_number": 1
    },
    {
     "cell_type": "markdown",
     "metadata": {},
     "source": [
      "In this case, only the current ipython notebook has been added. It is listed as an untracked file, and is therefore not in the repository yet."
     ]
    },
    {
     "cell_type": "heading",
     "level": 2,
     "metadata": {},
     "source": [
      "Adding files and committing changes"
     ]
    },
    {
     "cell_type": "markdown",
     "metadata": {},
     "source": [
      "To add a new file to the repository, we first create the file and then use the `git add filename` command:"
     ]
    },
    {
     "cell_type": "code",
     "collapsed": false,
     "input": [
      "%%file README\n",
      "\n",
      "A file with information about the gitdemo repository."
     ],
     "language": "python",
     "metadata": {},
     "outputs": [
      {
       "output_type": "stream",
       "stream": "stdout",
       "text": [
        "Writing README\n"
       ]
      }
     ],
     "prompt_number": 35
    },
    {
     "cell_type": "code",
     "collapsed": false,
     "input": [
      "!git status"
     ],
     "language": "python",
     "metadata": {},
     "outputs": [
      {
       "output_type": "stream",
       "stream": "stdout",
       "text": [
        "# On branch master\r\n",
        "#\r\n",
        "# Initial commit\r\n",
        "#\r\n",
        "# Untracked files:\r\n",
        "#   (use \"git add <file>...\" to include in what will be committed)\r\n",
        "#\r\n",
        "#\tLecture-7-Revision-Control-Software.ipynb\r\n",
        "#\tREADME\r\n",
        "nothing added to commit but untracked files present (use \"git add\" to track)\r\n"
       ]
      }
     ],
     "prompt_number": 36
    },
    {
     "cell_type": "markdown",
     "metadata": {},
     "source": [
      "After having added the file `README`, the command `git status` list it as an *untracked* file."
     ]
    },
    {
     "cell_type": "code",
     "collapsed": false,
     "input": [
      "!git add README"
     ],
     "language": "python",
     "metadata": {},
     "outputs": [],
     "prompt_number": 37
    },
    {
     "cell_type": "code",
     "collapsed": false,
     "input": [
      "!git status"
     ],
     "language": "python",
     "metadata": {},
     "outputs": [
      {
       "output_type": "stream",
       "stream": "stdout",
       "text": [
        "# On branch master\r\n",
        "#\r\n",
        "# Initial commit\r\n",
        "#\r\n",
        "# Changes to be committed:\r\n",
        "#   (use \"git rm --cached <file>...\" to unstage)\r\n",
        "#\r\n",
        "#\tnew file:   README\r\n",
        "#\r\n",
        "# Untracked files:\r\n",
        "#   (use \"git add <file>...\" to include in what will be committed)\r\n",
        "#\r\n",
        "#\tLecture-7-Revision-Control-Software.ipynb\r\n"
       ]
      }
     ],
     "prompt_number": 38
    },
    {
     "cell_type": "markdown",
     "metadata": {},
     "source": [
      "Now that it has been added, it is listed as a *new file* that has not yet been commited to the repository."
     ]
    },
    {
     "cell_type": "code",
     "collapsed": false,
     "input": [
      "!git commit -m \"Added a README file\" README"
     ],
     "language": "python",
     "metadata": {},
     "outputs": [
      {
       "output_type": "stream",
       "stream": "stdout",
       "text": [
        "[master (root-commit) 1f26ad6] Added a README file\r\n",
        " 1 file changed, 2 insertions(+)\r\n",
        " create mode 100644 README\r\n"
       ]
      }
     ],
     "prompt_number": 39
    },
    {
     "cell_type": "code",
     "collapsed": false,
     "input": [
      "!git add Lecture-7-Revision-Control-Software.ipynb"
     ],
     "language": "python",
     "metadata": {},
     "outputs": [],
     "prompt_number": 40
    },
    {
     "cell_type": "code",
     "collapsed": false,
     "input": [
      "!git commit -m \"added notebook file\" Lecture-7-Revision-Control-Software.ipynb"
     ],
     "language": "python",
     "metadata": {},
     "outputs": [
      {
       "output_type": "stream",
       "stream": "stdout",
       "text": [
        "[master da8b6e9] added notebook file\r\n",
        " 1 file changed, 2047 insertions(+)\r\n",
        " create mode 100644 Lecture-7-Revision-Control-Software.ipynb\r\n"
       ]
      }
     ],
     "prompt_number": 41
    },
    {
     "cell_type": "code",
     "collapsed": false,
     "input": [
      "!git status "
     ],
     "language": "python",
     "metadata": {},
     "outputs": [
      {
       "output_type": "stream",
       "stream": "stdout",
       "text": [
        "# On branch master\r\n",
        "nothing to commit (working directory clean)\r\n"
       ]
      }
     ],
     "prompt_number": 42
    },
    {
     "cell_type": "markdown",
     "metadata": {},
     "source": [
      "After *committing* the change to the repository from the local working directory, `git status` again reports that working directory is clean."
     ]
    },
    {
     "cell_type": "heading",
     "level": 2,
     "metadata": {},
     "source": [
      "Commiting changes"
     ]
    },
    {
     "cell_type": "markdown",
     "metadata": {},
     "source": [
      "When files that is tracked by GIT are changed, they are listed as *modified* by `git status`:"
     ]
    },
    {
     "cell_type": "code",
     "collapsed": false,
     "input": [
      "%%file README\n",
      "\n",
      "A file with information about the gitdemo repository.\n",
      "\n",
      "A new line."
     ],
     "language": "python",
     "metadata": {},
     "outputs": [
      {
       "output_type": "stream",
       "stream": "stdout",
       "text": [
        "Overwriting README"
       ]
      },
      {
       "output_type": "stream",
       "stream": "stdout",
       "text": [
        "\n"
       ]
      }
     ],
     "prompt_number": 43
    },
    {
     "cell_type": "code",
     "collapsed": false,
     "input": [
      "!git status"
     ],
     "language": "python",
     "metadata": {},
     "outputs": [
      {
       "output_type": "stream",
       "stream": "stdout",
       "text": [
        "# On branch master\r\n",
        "# Changes not staged for commit:\r\n",
        "#   (use \"git add <file>...\" to update what will be committed)\r\n",
        "#   (use \"git checkout -- <file>...\" to discard changes in working directory)\r\n",
        "#\r\n",
        "#\tmodified:   README\r\n",
        "#\r\n",
        "no changes added to commit (use \"git add\" and/or \"git commit -a\")\r\n"
       ]
      }
     ],
     "prompt_number": 44
    },
    {
     "cell_type": "markdown",
     "metadata": {},
     "source": [
      "Again, we can commit such changes to the repository using the `git commit -m \"message\"` command."
     ]
    },
    {
     "cell_type": "code",
     "collapsed": false,
     "input": [
      "!git commit -m \"added one more line in README\" README"
     ],
     "language": "python",
     "metadata": {},
     "outputs": [
      {
       "output_type": "stream",
       "stream": "stdout",
       "text": [
        "[master b6db712] added one more line in README\r\n",
        " 1 file changed, 3 insertions(+), 1 deletion(-)\r\n"
       ]
      }
     ],
     "prompt_number": 45
    },
    {
     "cell_type": "code",
     "collapsed": false,
     "input": [
      "!git status"
     ],
     "language": "python",
     "metadata": {},
     "outputs": [
      {
       "output_type": "stream",
       "stream": "stdout",
       "text": [
        "# On branch master\r\n",
        "nothing to commit (working directory clean)\r\n"
       ]
      }
     ],
     "prompt_number": 46
    },
    {
     "cell_type": "heading",
     "level": 2,
     "metadata": {},
     "source": [
      "Removing files"
     ]
    },
    {
     "cell_type": "markdown",
     "metadata": {},
     "source": [
      "To remove file that has been added to the repository, use `git rm filename`, which works similar to `git add filename`:"
     ]
    },
    {
     "cell_type": "code",
     "collapsed": false,
     "input": [
      "%%file tmpfile\n",
      "\n",
      "A short-lived file."
     ],
     "language": "python",
     "metadata": {},
     "outputs": [
      {
       "output_type": "stream",
       "stream": "stdout",
       "text": [
        "Writing tmpfile\n"
       ]
      }
     ],
     "prompt_number": 47
    },
    {
     "cell_type": "markdown",
     "metadata": {},
     "source": [
      "Add it:"
     ]
    },
    {
     "cell_type": "code",
     "collapsed": false,
     "input": [
      "!git add tmpfile"
     ],
     "language": "python",
     "metadata": {},
     "outputs": [],
     "prompt_number": 48
    },
    {
     "cell_type": "code",
     "collapsed": false,
     "input": [
      "!git commit -m \"adding file tmpfile\" tmpfile "
     ],
     "language": "python",
     "metadata": {},
     "outputs": [
      {
       "output_type": "stream",
       "stream": "stdout",
       "text": [
        "[master 44ed840] adding file tmpfile\r\n",
        " 1 file changed, 2 insertions(+)\r\n",
        " create mode 100644 tmpfile\r\n"
       ]
      }
     ],
     "prompt_number": 49
    },
    {
     "cell_type": "markdown",
     "metadata": {},
     "source": [
      "Remove it again:"
     ]
    },
    {
     "cell_type": "code",
     "collapsed": false,
     "input": [
      "!git rm tmpfile"
     ],
     "language": "python",
     "metadata": {},
     "outputs": [
      {
       "output_type": "stream",
       "stream": "stdout",
       "text": [
        "rm 'tmpfile'\r\n"
       ]
      }
     ],
     "prompt_number": 51
    },
    {
     "cell_type": "code",
     "collapsed": false,
     "input": [
      "!git commit -m \"remove file tmpfile\" tmpfile "
     ],
     "language": "python",
     "metadata": {},
     "outputs": [
      {
       "output_type": "stream",
       "stream": "stdout",
       "text": [
        "[master a9dc0a4] remove file tmpfile\r\n",
        " 1 file changed, 2 deletions(-)\r\n",
        " delete mode 100644 tmpfile\r\n"
       ]
      }
     ],
     "prompt_number": 52
    },
    {
     "cell_type": "heading",
     "level": 2,
     "metadata": {},
     "source": [
      "Commit logs"
     ]
    },
    {
     "cell_type": "markdown",
     "metadata": {},
     "source": [
      "The messages that are added to the commit command are supposed to give a short (often one-line) description of the changes/additions/deletions in the commit. If the `-m \"message\"` is omitted when invoking the `git commit` message an editor will be opened for you to type a commit message (for example useful when a longer commit message is requried). \n",
      "\n",
      "We can look at the revision log by using the command `git log`:"
     ]
    },
    {
     "cell_type": "code",
     "collapsed": false,
     "input": [
      "!git log"
     ],
     "language": "python",
     "metadata": {},
     "outputs": [
      {
       "output_type": "stream",
       "stream": "stdout",
       "text": [
        "commit a9dc0a4b68e8b1b6d973be8f7e7b8f1c92393c17\r\n",
        "Author: Robert Johansson <jrjohansson@gmail.com>\r\n",
        "Date:   Mon Dec 10 06:54:41 2012 +0100\r\n",
        "\r\n",
        "    remove file tmpfile\r\n",
        "\r\n",
        "commit 44ed840422571c62db55eabd8e8768be6c7784e4\r\n",
        "Author: Robert Johansson <jrjohansson@gmail.com>\r\n",
        "Date:   Mon Dec 10 06:54:31 2012 +0100\r\n",
        "\r\n",
        "    adding file tmpfile\r\n",
        "\r\n",
        "commit b6db712506a45a68001c768a6cf6e15e11c62f89\r\n",
        "Author: Robert Johansson <jrjohansson@gmail.com>\r\n",
        "Date:   Mon Dec 10 06:54:26 2012 +0100\r\n",
        "\r\n",
        "    added one more line in README\r\n",
        "\r\n",
        "commit da8b6e92b34fe3838873bdd27a94402ecc121c43\r\n",
        "Author: Robert Johansson <jrjohansson@gmail.com>\r\n",
        "Date:   Mon Dec 10 06:54:20 2012 +0100\r\n",
        "\r\n",
        "    added notebook file\r\n",
        "\r\n",
        "commit 1f26ad648a791e266fbb951ef5c49b8d990e6461\r\n",
        "Author: Robert Johansson <jrjohansson@gmail.com>\r\n",
        "Date:   Mon Dec 10 06:54:19 2012 +0100\r\n",
        "\r\n",
        "    Added a README file\r\n"
       ]
      }
     ],
     "prompt_number": 53
    },
    {
     "cell_type": "markdown",
     "metadata": {},
     "source": [
      "In the commit log, each revision is shown with a timestampe, a unique has tag that, and author information and the commit message."
     ]
    },
    {
     "cell_type": "heading",
     "level": 2,
     "metadata": {},
     "source": [
      "Diffs"
     ]
    },
    {
     "cell_type": "markdown",
     "metadata": {},
     "source": [
      "All commits results in a changeset, which has a \"diff\" describing the changes to the file associated with it. We can use `git diff` so see what has changed in a file:"
     ]
    },
    {
     "cell_type": "code",
     "collapsed": false,
     "input": [
      "%%file README\n",
      "\n",
      "A file with information about the gitdemo repository.\n",
      "\n",
      "README files usually contains installation instructions, and information about how to get started using the software (for example)."
     ],
     "language": "python",
     "metadata": {},
     "outputs": [
      {
       "output_type": "stream",
       "stream": "stdout",
       "text": [
        "Overwriting README"
       ]
      },
      {
       "output_type": "stream",
       "stream": "stdout",
       "text": [
        "\n"
       ]
      }
     ],
     "prompt_number": 54
    },
    {
     "cell_type": "code",
     "collapsed": false,
     "input": [
      "!git diff README"
     ],
     "language": "python",
     "metadata": {},
     "outputs": [
      {
       "output_type": "stream",
       "stream": "stdout",
       "text": [
        "diff --git a/README b/README\r\n",
        "index 4f51868..d3951c6 100644\r\n",
        "--- a/README\r\n",
        "+++ b/README\r\n",
        "@@ -1,4 +1,4 @@\r\n",
        " \r\n",
        " A file with information about the gitdemo repository.\r\n",
        " \r\n",
        "-A new line.\r\n",
        "\\ No newline at end of file\r\n",
        "+README files usually contains installation instructions, and information about how to get started using the software (for example).\r\n",
        "\\ No newline at end of file\r\n"
       ]
      }
     ],
     "prompt_number": 55
    },
    {
     "cell_type": "markdown",
     "metadata": {},
     "source": [
      "That looks quite cryptic but is a standard form for describing changes in files. We can use other tools, like graphical user interfaces or web based systems to get a more easily understandable diff.\n",
      "\n",
      "In github (a web-based GIT repository hosting service) it can look like this:"
     ]
    },
    {
     "cell_type": "code",
     "collapsed": false,
     "input": [],
     "language": "python",
     "metadata": {},
     "outputs": [],
     "prompt_number": 1
    },
    {
     "cell_type": "heading",
     "level": 2,
     "metadata": {},
     "source": [
      "Discard changes in the working directory"
     ]
    },
    {
     "cell_type": "markdown",
     "metadata": {},
     "source": [
      "To discard a change (revert to the latest version in the repository) we can use the `checkout` command like this:"
     ]
    },
    {
     "cell_type": "code",
     "collapsed": false,
     "input": [
      "!git checkout -- README"
     ],
     "language": "python",
     "metadata": {},
     "outputs": [],
     "prompt_number": 58
    },
    {
     "cell_type": "code",
     "collapsed": false,
     "input": [
      "!git status"
     ],
     "language": "python",
     "metadata": {},
     "outputs": [
      {
       "output_type": "stream",
       "stream": "stdout",
       "text": [
        "# On branch master\r\n",
        "nothing to commit (working directory clean)\r\n"
       ]
      }
     ],
     "prompt_number": 59
    },
    {
     "cell_type": "heading",
     "level": 2,
     "metadata": {},
     "source": [
      "Checking out old revisions"
     ]
    },
    {
     "cell_type": "markdown",
     "metadata": {},
     "source": [
      "If we want to get the code for a specific revision, we can use \"git checkout\" and giving it the hash code for the revision we are interested as argument:"
     ]
    },
    {
     "cell_type": "code",
     "collapsed": false,
     "input": [
      "!git log"
     ],
     "language": "python",
     "metadata": {},
     "outputs": [
      {
       "output_type": "stream",
       "stream": "stdout",
       "text": [
        "commit a9dc0a4b68e8b1b6d973be8f7e7b8f1c92393c17\r\n",
        "Author: Robert Johansson <jrjohansson@gmail.com>\r\n",
        "Date:   Mon Dec 10 06:54:41 2012 +0100\r\n",
        "\r\n",
        "    remove file tmpfile\r\n",
        "\r\n",
        "commit 44ed840422571c62db55eabd8e8768be6c7784e4\r\n",
        "Author: Robert Johansson <jrjohansson@gmail.com>\r\n",
        "Date:   Mon Dec 10 06:54:31 2012 +0100\r\n",
        "\r\n",
        "    adding file tmpfile\r\n",
        "\r\n",
        "commit b6db712506a45a68001c768a6cf6e15e11c62f89\r\n",
        "Author: Robert Johansson <jrjohansson@gmail.com>\r\n",
        "Date:   Mon Dec 10 06:54:26 2012 +0100\r\n",
        "\r\n",
        "    added one more line in README\r\n",
        "\r\n",
        "commit da8b6e92b34fe3838873bdd27a94402ecc121c43\r\n",
        "Author: Robert Johansson <jrjohansson@gmail.com>\r\n",
        "Date:   Mon Dec 10 06:54:20 2012 +0100\r\n",
        "\r\n",
        "    added notebook file\r\n",
        "\r\n",
        "commit 1f26ad648a791e266fbb951ef5c49b8d990e6461\r\n",
        "Author: Robert Johansson <jrjohansson@gmail.com>\r\n",
        "Date:   Mon Dec 10 06:54:19 2012 +0100\r\n",
        "\r\n",
        "    Added a README file\r\n"
       ]
      }
     ],
     "prompt_number": 60
    },
    {
     "cell_type": "code",
     "collapsed": false,
     "input": [
      "!git checkout 1f26ad648a791e266fbb951ef5c49b8d990e6461"
     ],
     "language": "python",
     "metadata": {},
     "outputs": [
      {
       "output_type": "stream",
       "stream": "stdout",
       "text": [
        "Note: checking out '1f26ad648a791e266fbb951ef5c49b8d990e6461'.\r\n",
        "\r\n",
        "You are in 'detached HEAD' state. You can look around, make experimental\r\n",
        "changes and commit them, and you can discard any commits you make in this\r\n",
        "state without impacting any branches by performing another checkout.\r\n",
        "\r\n",
        "If you want to create a new branch to retain commits you create, you may\r\n",
        "do so (now or later) by using -b with the checkout command again. Example:\r\n",
        "\r\n",
        "  git checkout -b new_branch_name\r\n",
        "\r\n",
        "HEAD is now at 1f26ad6... Added a README file\r\n"
       ]
      }
     ],
     "prompt_number": 61
    },
    {
     "cell_type": "markdown",
     "metadata": {},
     "source": [
      "Now the content of all the files like in the revision with the hash code listed above (first revision)"
     ]
    },
    {
     "cell_type": "code",
     "collapsed": false,
     "input": [
      "!cat README"
     ],
     "language": "python",
     "metadata": {},
     "outputs": [
      {
       "output_type": "stream",
       "stream": "stdout",
       "text": [
        "\r\n",
        "A file with information about the gitdemo repository."
       ]
      }
     ],
     "prompt_number": 62
    },
    {
     "cell_type": "markdown",
     "metadata": {},
     "source": [
      "We can move back to \"the latest\" (master) with the command:"
     ]
    },
    {
     "cell_type": "code",
     "collapsed": false,
     "input": [
      "!git checkout master "
     ],
     "language": "python",
     "metadata": {},
     "outputs": [
      {
       "output_type": "stream",
       "stream": "stdout",
       "text": [
        "Previous HEAD position was 1f26ad6... Added a README file\r\n",
        "Switched to branch 'master'\r\n"
       ]
      }
     ],
     "prompt_number": 63
    },
    {
     "cell_type": "code",
     "collapsed": false,
     "input": [
      "!cat README"
     ],
     "language": "python",
     "metadata": {},
     "outputs": [
      {
       "output_type": "stream",
       "stream": "stdout",
       "text": [
        "\r\n",
        "A file with information about the gitdemo repository.\r\n",
        "\r\n",
        "A new line."
       ]
      }
     ],
     "prompt_number": 64
    },
    {
     "cell_type": "code",
     "collapsed": false,
     "input": [
      "!git status"
     ],
     "language": "python",
     "metadata": {},
     "outputs": [
      {
       "output_type": "stream",
       "stream": "stdout",
       "text": [
        "# On branch master\r\n",
        "nothing to commit (working directory clean)\r\n"
       ]
      }
     ],
     "prompt_number": 65
    },
    {
     "cell_type": "heading",
     "level": 2,
     "metadata": {},
     "source": [
      "Tagging and branching"
     ]
    },
    {
     "cell_type": "heading",
     "level": 3,
     "metadata": {},
     "source": [
      "Tags"
     ]
    },
    {
     "cell_type": "markdown",
     "metadata": {},
     "source": [
      "Tags are named revisions. They are useful for marking particular revisions for later references. For example, we can tag our code with the tag \"paper-1-final\" when when simulations for \"paper-1\" are finished and the paper submitted. Then we can always retreive the exactly the code used for that paper even if we continue to work on and develop the code for future projects and papers."
     ]
    },
    {
     "cell_type": "code",
     "collapsed": false,
     "input": [
      "!git log"
     ],
     "language": "python",
     "metadata": {},
     "outputs": [
      {
       "output_type": "stream",
       "stream": "stdout",
       "text": [
        "commit a9dc0a4b68e8b1b6d973be8f7e7b8f1c92393c17\r\n",
        "Author: Robert Johansson <jrjohansson@gmail.com>\r\n",
        "Date:   Mon Dec 10 06:54:41 2012 +0100\r\n",
        "\r\n",
        "    remove file tmpfile\r\n",
        "\r\n",
        "commit 44ed840422571c62db55eabd8e8768be6c7784e4\r\n",
        "Author: Robert Johansson <jrjohansson@gmail.com>\r\n",
        "Date:   Mon Dec 10 06:54:31 2012 +0100\r\n",
        "\r\n",
        "    adding file tmpfile\r\n",
        "\r\n",
        "commit b6db712506a45a68001c768a6cf6e15e11c62f89\r\n",
        "Author: Robert Johansson <jrjohansson@gmail.com>\r\n",
        "Date:   Mon Dec 10 06:54:26 2012 +0100\r\n",
        "\r\n",
        "    added one more line in README\r\n",
        "\r\n",
        "commit da8b6e92b34fe3838873bdd27a94402ecc121c43\r\n",
        "Author: Robert Johansson <jrjohansson@gmail.com>\r\n",
        "Date:   Mon Dec 10 06:54:20 2012 +0100\r\n",
        "\r\n",
        "    added notebook file\r\n",
        "\r\n",
        "commit 1f26ad648a791e266fbb951ef5c49b8d990e6461\r\n",
        "Author: Robert Johansson <jrjohansson@gmail.com>\r\n",
        "Date:   Mon Dec 10 06:54:19 2012 +0100\r\n",
        "\r\n",
        "    Added a README file\r\n"
       ]
      }
     ],
     "prompt_number": 66
    },
    {
     "cell_type": "code",
     "collapsed": false,
     "input": [
      "!git tag -a demotag1 -m \"Code used for this and that purpuse\" "
     ],
     "language": "python",
     "metadata": {},
     "outputs": [],
     "prompt_number": 67
    },
    {
     "cell_type": "code",
     "collapsed": false,
     "input": [
      "!git tag -l "
     ],
     "language": "python",
     "metadata": {},
     "outputs": [
      {
       "output_type": "stream",
       "stream": "stdout",
       "text": [
        "demotag1\r\n"
       ]
      }
     ],
     "prompt_number": 68
    },
    {
     "cell_type": "code",
     "collapsed": false,
     "input": [
      "!git show demotag1"
     ],
     "language": "python",
     "metadata": {},
     "outputs": [
      {
       "output_type": "stream",
       "stream": "stdout",
       "text": [
        "tag demotag1\r\n",
        "Tagger: Robert Johansson <jrjohansson@gmail.com>\r\n",
        "Date:   Mon Dec 10 06:57:25 2012 +0100\r\n",
        "\r\n",
        "Code used for this and that purpuse\r\n",
        "\r\n",
        "commit a9dc0a4b68e8b1b6d973be8f7e7b8f1c92393c17\r\n",
        "Author: Robert Johansson <jrjohansson@gmail.com>\r\n",
        "Date:   Mon Dec 10 06:54:41 2012 +0100\r\n",
        "\r\n",
        "    remove file tmpfile\r\n",
        "\r\n",
        "diff --git a/tmpfile b/tmpfile\r\n",
        "deleted file mode 100644\r\n",
        "index ee4c1e7..0000000\r\n",
        "--- a/tmpfile\r\n",
        "+++ /dev/null\r\n",
        "@@ -1,2 +0,0 @@\r\n",
        "-\r\n",
        "-A short-lived file.\r\n",
        "\\ No newline at end of file\r\n"
       ]
      }
     ],
     "prompt_number": 69
    },
    {
     "cell_type": "markdown",
     "metadata": {},
     "source": [
      "To retreive the code in the state corresponding to a particular tag, we can use the `git checkout tagname` command:\n",
      "\n",
      "    $ git checkout demotag1"
     ]
    },
    {
     "cell_type": "heading",
     "level": 2,
     "metadata": {},
     "source": [
      "Branches"
     ]
    },
    {
     "cell_type": "markdown",
     "metadata": {},
     "source": [
      "With branches we can create diverging code bases in the same repository. They are for example useful for experimental development that requires a lot of code changes that could break the functionality in the master branch. Once the development of a branch has reached a stable state it can always be merged back into the trunk. Branching-development-merging is a good development strategy when serveral people are involved in working on the same code base. But even in single author repositories it can often be useful to always keep the master branch in a working state, and always branch/fork before implementing a new feature, and later merge it back into the main trunk.\n",
      "\n",
      "In GIT, we can create a new branch like this:"
     ]
    },
    {
     "cell_type": "code",
     "collapsed": false,
     "input": [
      "!git branch expr1 "
     ],
     "language": "python",
     "metadata": {},
     "outputs": [],
     "prompt_number": 70
    },
    {
     "cell_type": "markdown",
     "metadata": {},
     "source": [
      "We can list the existing branches like this:"
     ]
    },
    {
     "cell_type": "code",
     "collapsed": false,
     "input": [
      "!git branch"
     ],
     "language": "python",
     "metadata": {},
     "outputs": [
      {
       "output_type": "stream",
       "stream": "stdout",
       "text": [
        "  expr1\r\n",
        "* master\r\n"
       ]
      }
     ],
     "prompt_number": 71
    },
    {
     "cell_type": "markdown",
     "metadata": {},
     "source": [
      "And we can switch between branches using `checkout`:"
     ]
    },
    {
     "cell_type": "code",
     "collapsed": false,
     "input": [
      "!git checkout expr1"
     ],
     "language": "python",
     "metadata": {},
     "outputs": [
      {
       "output_type": "stream",
       "stream": "stdout",
       "text": [
        "Switched to branch 'expr1'\r\n"
       ]
      }
     ],
     "prompt_number": 81
    },
    {
     "cell_type": "markdown",
     "metadata": {},
     "source": [
      "Make a change in the new branch."
     ]
    },
    {
     "cell_type": "code",
     "collapsed": false,
     "input": [
      "%%file README\n",
      "\n",
      "A file with information about the gitdemo repository.\n",
      "\n",
      "README files usually contains installation instructions, and information about how to get started using the software (for example).\n",
      "\n",
      "Experimental addition."
     ],
     "language": "python",
     "metadata": {},
     "outputs": [
      {
       "output_type": "stream",
       "stream": "stdout",
       "text": [
        "Overwriting README\n"
       ]
      }
     ],
     "prompt_number": 74
    },
    {
     "cell_type": "code",
     "collapsed": false,
     "input": [
      "!git commit -m \"added a line in expr1 branch\" README"
     ],
     "language": "python",
     "metadata": {},
     "outputs": [
      {
       "output_type": "stream",
       "stream": "stdout",
       "text": [
        "[expr1 a6dc24f] added a line in expr1 branch\r\n",
        " 1 file changed, 3 insertions(+), 1 deletion(-)\r\n"
       ]
      }
     ],
     "prompt_number": 76
    },
    {
     "cell_type": "code",
     "collapsed": false,
     "input": [
      "!git branch"
     ],
     "language": "python",
     "metadata": {},
     "outputs": [
      {
       "output_type": "stream",
       "stream": "stdout",
       "text": [
        "* expr1\r\n",
        "  master\r\n"
       ]
      }
     ],
     "prompt_number": 77
    },
    {
     "cell_type": "code",
     "collapsed": false,
     "input": [
      "!git checkout master"
     ],
     "language": "python",
     "metadata": {},
     "outputs": [
      {
       "output_type": "stream",
       "stream": "stdout",
       "text": [
        "Switched to branch 'master'\r\n"
       ]
      }
     ],
     "prompt_number": 78
    },
    {
     "cell_type": "code",
     "collapsed": false,
     "input": [
      "!git branch"
     ],
     "language": "python",
     "metadata": {},
     "outputs": [
      {
       "output_type": "stream",
       "stream": "stdout",
       "text": [
        "  expr1\r\n",
        "* master\r\n"
       ]
      }
     ],
     "prompt_number": 79
    },
    {
     "cell_type": "markdown",
     "metadata": {},
     "source": [
      "We can merge an existing branch and all its changesets into another branch (for example the master branch) like this:\n",
      "\n",
      "First change to the target branch:"
     ]
    },
    {
     "cell_type": "code",
     "collapsed": false,
     "input": [
      "!git checkout master"
     ],
     "language": "python",
     "metadata": {},
     "outputs": [
      {
       "output_type": "stream",
       "stream": "stdout",
       "text": [
        "Switched to branch 'master'\r\n"
       ]
      }
     ],
     "prompt_number": 82
    },
    {
     "cell_type": "code",
     "collapsed": false,
     "input": [
      "!git merge expr1"
     ],
     "language": "python",
     "metadata": {},
     "outputs": [
      {
       "output_type": "stream",
       "stream": "stdout",
       "text": [
        "Updating a9dc0a4..a6dc24f\r\n",
        "Fast-forward\r\n",
        " README |    4 +++-\r\n",
        " 1 file changed, 3 insertions(+), 1 deletion(-)\r\n"
       ]
      }
     ],
     "prompt_number": 83
    },
    {
     "cell_type": "code",
     "collapsed": false,
     "input": [
      "!git branch "
     ],
     "language": "python",
     "metadata": {},
     "outputs": [
      {
       "output_type": "stream",
       "stream": "stdout",
       "text": [
        "  expr1\r\n",
        "* master\r\n"
       ]
      }
     ],
     "prompt_number": 84
    },
    {
     "cell_type": "markdown",
     "metadata": {},
     "source": [
      "We can delete the branch `expr1` now that it has been merged into the master:"
     ]
    },
    {
     "cell_type": "code",
     "collapsed": false,
     "input": [
      "!git branch -d expr1"
     ],
     "language": "python",
     "metadata": {},
     "outputs": [
      {
       "output_type": "stream",
       "stream": "stdout",
       "text": [
        "Deleted branch expr1 (was a6dc24f).\r\n"
       ]
      }
     ],
     "prompt_number": 85
    },
    {
     "cell_type": "code",
     "collapsed": false,
     "input": [
      "!git branch"
     ],
     "language": "python",
     "metadata": {},
     "outputs": [
      {
       "output_type": "stream",
       "stream": "stdout",
       "text": [
        "* master\r\n"
       ]
      }
     ],
     "prompt_number": 86
    },
    {
     "cell_type": "code",
     "collapsed": false,
     "input": [
      "!cat README"
     ],
     "language": "python",
     "metadata": {},
     "outputs": [
      {
       "output_type": "stream",
       "stream": "stdout",
       "text": [
        "\r\n",
        "A file with information about the gitdemo repository.\r\n",
        "\r\n",
        "README files usually contains installation instructions, and information about how to get started using the software (for example).\r\n",
        "\r\n",
        "Experimental addition."
       ]
      }
     ],
     "prompt_number": 88
    },
    {
     "cell_type": "heading",
     "level": 2,
     "metadata": {},
     "source": [
      "pulling and pushing changesets between repositories"
     ]
    },
    {
     "cell_type": "markdown",
     "metadata": {},
     "source": [
      "If the respository has been cloned from another repository, for example on github.com, it automatically remembers the address of the parant repository (called origin):"
     ]
    },
    {
     "cell_type": "code",
     "collapsed": false,
     "input": [
      "!git remote"
     ],
     "language": "python",
     "metadata": {},
     "outputs": [
      {
       "output_type": "stream",
       "stream": "stdout",
       "text": [
        "origin\r\n"
       ]
      }
     ],
     "prompt_number": 5
    },
    {
     "cell_type": "code",
     "collapsed": false,
     "input": [
      "!git remote show origin"
     ],
     "language": "python",
     "metadata": {},
     "outputs": [
      {
       "output_type": "stream",
       "stream": "stdout",
       "text": [
        "* remote origin\r\n",
        "  Fetch URL: git@github.com:jrjohansson/scientific-python-lectures.git\r\n",
        "  Push  URL: git@github.com:jrjohansson/scientific-python-lectures.git\r\n",
        "  HEAD branch: master\r\n",
        "  Remote branch:\r\n",
        "    master tracked\r\n",
        "  Local branch configured for 'git pull':\r\n",
        "    master merges with remote master\r\n",
        "  Local ref configured for 'git push':\r\n",
        "    master pushes to master (up to date)\r\n"
       ]
      }
     ],
     "prompt_number": 4
    },
    {
     "cell_type": "heading",
     "level": 3,
     "metadata": {},
     "source": [
      "pull"
     ]
    },
    {
     "cell_type": "markdown",
     "metadata": {},
     "source": [
      "We can retrieve updates from the origin repository by \"pulling\" changesets from \"origin\" to our repository:"
     ]
    },
    {
     "cell_type": "code",
     "collapsed": false,
     "input": [
      "!git pull origin"
     ],
     "language": "python",
     "metadata": {},
     "outputs": [
      {
       "output_type": "stream",
       "stream": "stdout",
       "text": [
        "Already up-to-date.\r\n"
       ]
      }
     ],
     "prompt_number": 6
    },
    {
     "cell_type": "markdown",
     "metadata": {},
     "source": [
      "We can register addresses to many different repositories, and pull in different changesets from different sources, but the default source is the origin from where the repository was first cloned (and the work origin could have been omitted from the line above)."
     ]
    },
    {
     "cell_type": "heading",
     "level": 3,
     "metadata": {},
     "source": [
      "push"
     ]
    },
    {
     "cell_type": "markdown",
     "metadata": {},
     "source": [
      "After making changes to our local repository, we can push changes to a remote repository using `git push`. Again, the default target repository is `origin`, so we can do:"
     ]
    },
    {
     "cell_type": "code",
     "collapsed": false,
     "input": [
      "!git status"
     ],
     "language": "python",
     "metadata": {},
     "outputs": [
      {
       "output_type": "stream",
       "stream": "stdout",
       "text": [
        "# On branch master\r\n",
        "# Untracked files:\r\n",
        "#   (use \"git add <file>...\" to include in what will be committed)\r\n",
        "#\r\n",
        "#\tLecture-7-Revision-Control-Software.ipynb\r\n",
        "nothing added to commit but untracked files present (use \"git add\" to track)\r\n"
       ]
      }
     ],
     "prompt_number": 7
    },
    {
     "cell_type": "code",
     "collapsed": false,
     "input": [
      "!git add Lecture-7-Revision-Control-Software.ipynb"
     ],
     "language": "python",
     "metadata": {},
     "outputs": [],
     "prompt_number": 8
    },
    {
     "cell_type": "code",
     "collapsed": false,
     "input": [
      "!git commit -m \"added lecture notebook about RCS\" Lecture-7-Revision-Control-Software.ipynb"
     ],
     "language": "python",
     "metadata": {},
     "outputs": [
      {
       "output_type": "stream",
       "stream": "stdout",
       "text": [
        "[master d0d6a70] added lecture notebook about RCS\r\n",
        " 1 file changed, 2114 insertions(+)\r\n",
        " create mode 100644 Lecture-7-Revision-Control-Software.ipynb\r\n"
       ]
      }
     ],
     "prompt_number": 9
    },
    {
     "cell_type": "code",
     "collapsed": false,
     "input": [
      "!git push"
     ],
     "language": "python",
     "metadata": {},
     "outputs": [
      {
       "output_type": "stream",
       "stream": "stdout",
       "text": [
        "Counting objects: 4, done.\r\n",
        "Delta compression using up to 4 threads.\r\n",
        "Compressing objects:  33% (1/3)   \r",
        "Compressing objects:  66% (2/3)   \r",
        "Compressing objects: 100% (3/3)   \r",
        "Compressing objects: 100% (3/3), done.\r\n",
        "Writing objects:  33% (1/3)   \r",
        "Writing objects:  66% (2/3)   \r",
        "Writing objects: 100% (3/3)   \r",
        "Writing objects: 100% (3/3), 118.94 KiB, done.\r\n",
        "Total 3 (delta 1), reused 0 (delta 0)\r\n"
       ]
      },
      {
       "output_type": "stream",
       "stream": "stdout",
       "text": [
        "To git@github.com:jrjohansson/scientific-python-lectures.git\r\n",
        "   2495af4..d0d6a70  master -> master\r\n"
       ]
      }
     ],
     "prompt_number": 11
    },
    {
     "cell_type": "heading",
     "level": 2,
     "metadata": {},
     "source": [
      "Hosted repositories"
     ]
    },
    {
     "cell_type": "markdown",
     "metadata": {},
     "source": [
      "Github.com is a git repository hosting site that is very popular with both open source projects (for which it is free) and private repositories (for which a subscription might be needed).\n",
      "\n",
      "With a hosted repository it easy to collaborate with colleagues on the same code base, and you get a graphical user interface where you can browse the code and look at commit logs, track issues etc. \n",
      "\n",
      "Some good hosted repositories are\n",
      "\n",
      "* Github : http://www.github.com\n",
      "* Bitbucket: http://www.bitbucket.org"
     ]
    },
    {
     "cell_type": "code",
     "collapsed": false,
     "input": [],
     "language": "python",
     "metadata": {},
     "outputs": [],
     "prompt_number": 1
    },
    {
     "cell_type": "heading",
     "level": 2,
     "metadata": {},
     "source": [
      "Graphical user interfaces"
     ]
    },
    {
     "cell_type": "markdown",
     "metadata": {},
     "source": [
      "There are also a number of graphical users interfaces for GIT. The available options vary a little bit from platform to platform:\n",
      "\n",
      "http://git-scm.com/downloads/guis"
     ]
    },
    {
     "cell_type": "code",
     "collapsed": false,
     "input": [],
     "language": "python",
     "metadata": {},
     "outputs": [],
     "prompt_number": 1
    },
    {
     "cell_type": "heading",
     "level": 2,
     "metadata": {},
     "source": [
      "Further reading"
     ]
    },
    {
     "cell_type": "markdown",
     "metadata": {},
     "source": [
      "* http://git-scm.com/book\n",
      "* http://www.vogella.com/articles/Git/article.html\n",
      "* http://cheat.errtheblog.com/s/git"
     ]
    }
   ],
   "metadata": {}
  }
 ]
}