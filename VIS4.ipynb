{
 "cells": [
  {
   "cell_type": "code",
   "execution_count": null,
   "metadata": {
    "collapsed": true
   },
   "outputs": [],
   "source": [
    "import numpy as np"
   ]
  },
  {
   "cell_type": "code",
   "execution_count": null,
   "metadata": {
    "collapsed": true
   },
   "outputs": [],
   "source": [
    "import pandas as pd"
   ]
  },
  {
   "cell_type": "code",
   "execution_count": null,
   "metadata": {
    "collapsed": true
   },
   "outputs": [],
   "source": [
    "from pandas import Series,DataFrame"
   ]
  },
  {
   "cell_type": "code",
   "execution_count": null,
   "metadata": {
    "collapsed": true
   },
   "outputs": [],
   "source": [
    "import webbrowser"
   ]
  },
  {
   "cell_type": "code",
   "execution_count": 83,
   "metadata": {
    "collapsed": true
   },
   "outputs": [],
   "source": [
    "from numpy.random import randn"
   ]
  },
  {
   "cell_type": "code",
   "execution_count": 173,
   "metadata": {
    "collapsed": true
   },
   "outputs": [],
   "source": [
    "import datetime"
   ]
  },
  {
   "cell_type": "code",
   "execution_count": null,
   "metadata": {
    "collapsed": true
   },
   "outputs": [],
   "source": [
    "website='too much work'#https://www.digitaltrends.com/cars/fastest-cars-in-the-world/"
   ]
  },
  {
   "cell_type": "code",
   "execution_count": null,
   "metadata": {},
   "outputs": [],
   "source": [
    "carDataFrame= pd.read_clipboard()"
   ]
  },
  {
   "cell_type": "code",
   "execution_count": null,
   "metadata": {},
   "outputs": [],
   "source": [
    "carDataFrame"
   ]
  },
  {
   "cell_type": "code",
   "execution_count": null,
   "metadata": {
    "collapsed": true
   },
   "outputs": [],
   "source": [
    "#url=https://en.wikipedia.org/wiki/Category:United_States_Marine_Corps_World_War_II_generals\n",
    "\n",
    "fastDataFrame=\"\"\"<div lang=\"en\" dir=\"ltr\" class=\"mw-content-ltr\"><div class=\"mw-category\"><div class=\"mw-category-group\"><h3>A</h3>\n",
    "<ul><li><a href=\"/wiki/William_W._Ashurst\" title=\"William W. Ashurst\">William W. Ashurst</a></li></ul></div><div class=\"mw-category-group\"><h3>B</h3>\n",
    "<ul><li><a href=\"/wiki/Charles_D._Barrett\" title=\"Charles D. Barrett\">Charles D. Barrett</a></li>\n",
    "<li><a href=\"/wiki/Robert_Blake_(USMC)\" title=\"Robert Blake (USMC)\">Robert Blake (USMC)</a></li>\n",
    "<li><a href=\"/wiki/Victor_Bleasdale\" title=\"Victor Bleasdale\">Victor Bleasdale</a></li>\n",
    "<li><a href=\"/wiki/Thomas_E._Bourke\" title=\"Thomas E. Bourke\">Thomas E. Bourke</a></li>\n",
    "<li><a href=\"/wiki/William_O._Brice\" title=\"William O. Brice\">William O. Brice</a></li>\n",
    "<li><a href=\"/wiki/Dudley_S._Brown\" title=\"Dudley S. Brown\">Dudley S. Brown</a></li></ul></div><div class=\"mw-category-group\"><h3>C</h3>\n",
    "<ul><li><a href=\"/wiki/Harold_D._Campbell\" title=\"Harold D. Campbell\">Harold D. Campbell</a></li>\n",
    "<li><a href=\"/wiki/Clifton_B._Cates\" title=\"Clifton B. Cates\">Clifton B. Cates</a></li>\n",
    "<li><a href=\"/wiki/Oscar_R._Cauldwell\" title=\"Oscar R. Cauldwell\">Oscar R. Cauldwell</a></li>\n",
    "<li><a href=\"/wiki/William_T._Clement\" title=\"William T. Clement\">William T. Clement</a></li>\n",
    "<li><a href=\"/wiki/Samuel_C._Cumming\" title=\"Samuel C. Cumming\">Samuel C. Cumming</a></li>\n",
    "<li><a href=\"/wiki/Merritt_B._Curtis\" title=\"Merritt B. Curtis\">Merritt B. Curtis</a></li></ul></div><div class=\"mw-category-group\"><h3>D</h3>\n",
    "<ul><li><a href=\"/wiki/Alphonse_DeCarre\" title=\"Alphonse DeCarre\">Alphonse DeCarre</a></li>\n",
    "<li><a href=\"/wiki/Pedro_del_Valle\" title=\"Pedro del Valle\">Pedro del Valle</a></li>\n",
    "<li><a href=\"/wiki/Robert_L._Denig\" title=\"Robert L. Denig\">Robert L. Denig</a></li></ul></div><div class=\"mw-category-group\"><h3>E</h3>\n",
    "<ul><li><a href=\"/wiki/Merritt_A._Edson\" title=\"Merritt A. Edson\">Merritt A. Edson</a></li>\n",
    "<li><a href=\"/wiki/Graves_B._Erskine\" title=\"Graves B. Erskine\">Graves B. Erskine</a></li></ul></div><div class=\"mw-category-group\"><h3>G</h3>\n",
    "<ul><li><a href=\"/wiki/Roy_Geiger\" title=\"Roy Geiger\">Roy Geiger</a></li>\n",
    "<li><a href=\"/wiki/Maurice_C._Gregory\" title=\"Maurice C. Gregory\">Maurice C. Gregory</a></li></ul></div><div class=\"mw-category-group\"><h3>H</h3>\n",
    "<ul><li><a href=\"/wiki/Elmer_E._Hall\" title=\"Elmer E. Hall\">Elmer E. Hall</a></li>\n",
    "<li><a href=\"/wiki/Samuel_M._Harrington\" title=\"Samuel M. Harrington\">Samuel M. Harrington</a></li>\n",
    "<li><a href=\"/wiki/Field_Harris\" title=\"Field Harris\">Field Harris</a></li>\n",
    "<li><a href=\"/wiki/Franklin_A._Hart\" title=\"Franklin A. Hart\">Franklin A. Hart</a></li>\n",
    "<li><a href=\"/wiki/Leo_D._Hermle\" title=\"Leo D. Hermle\">Leo D. Hermle</a></li>\n",
    "<li><a href=\"/wiki/Walter_Newell_Hill\" title=\"Walter Newell Hill\">Walter Newell Hill</a></li>\n",
    "<li><a href=\"/wiki/William_P._T._Hill\" title=\"William P. T. Hill\">William P. T. Hill</a></li>\n",
    "<li><a href=\"/wiki/Thomas_Holcomb\" title=\"Thomas Holcomb\">Thomas Holcomb</a></li>\n",
    "<li><a href=\"/wiki/Archie_F._Howard\" title=\"Archie F. Howard\">Archie F. Howard</a></li>\n",
    "<li><a href=\"/wiki/LeRoy_P._Hunt\" title=\"LeRoy P. Hunt\">LeRoy P. Hunt</a></li></ul></div><div class=\"mw-category-group\"><h3>J</h3>\n",
    "<ul><li><a href=\"/wiki/Gilder_D._Jackson_Jr.\" title=\"Gilder D. Jackson Jr.\">Gilder D. Jackson Jr.</a></li>\n",
    "<li><a href=\"/wiki/Arnold_W._Jacobsen\" title=\"Arnold W. Jacobsen\">Arnold W. Jacobsen</a></li>\n",
    "<li><a href=\"/wiki/William_C._James\" title=\"William C. James\">William C. James</a></li>\n",
    "<li><a href=\"/wiki/Byron_F._Johnson\" title=\"Byron F. Johnson\">Byron F. Johnson</a></li>\n",
    "<li><a href=\"/wiki/Louis_R._Jones\" title=\"Louis R. Jones\">Louis R. Jones</a></li></ul></div><div class=\"mw-category-group\"><h3>K</h3>\n",
    "<ul><li><a href=\"/wiki/Ralph_S._Keyser\" title=\"Ralph S. Keyser\">Ralph S. Keyser</a></li>\n",
    "<li><a href=\"/wiki/Matthew_H._Kingman\" title=\"Matthew H. Kingman\">Matthew H. Kingman</a></li></ul></div><div class=\"mw-category-group\"><h3>L</h3>\n",
    "<ul><li><a href=\"/wiki/Henry_Louis_Larsen\" title=\"Henry Louis Larsen\">Henry Louis Larsen</a></li>\n",
    "<li><a href=\"/wiki/Louis_M._Little\" title=\"Louis M. Little\">Louis M. Little</a></li>\n",
    "<li><a href=\"/wiki/Earl_C._Long\" title=\"Earl C. Long\">Earl C. Long</a></li></ul></div><div class=\"mw-category-group\"><h3>M</h3>\n",
    "<ul><li><a href=\"/wiki/John_Marston_(USMC)\" title=\"John Marston (USMC)\">John Marston (USMC)</a></li>\n",
    "<li><a href=\"/wiki/William_L._McKittrick\" title=\"William L. McKittrick\">William L. McKittrick</a></li>\n",
    "<li><a href=\"/wiki/Lewie_G._Merritt\" title=\"Lewie G. Merritt\">Lewie G. Merritt</a></li>\n",
    "<li><a href=\"/wiki/Lyle_H._Miller\" title=\"Lyle H. Miller\">Lyle H. Miller</a></li>\n",
    "<li><a href=\"/wiki/Ralph_J._Mitchell\" title=\"Ralph J. Mitchell\">Ralph J. Mitchell</a></li>\n",
    "<li><a href=\"/wiki/James_T._Moore_(USMC)\" title=\"James T. Moore (USMC)\">James T. Moore (USMC)</a></li>\n",
    "<li><a href=\"/wiki/Francis_P._Mulcahy\" title=\"Francis P. Mulcahy\">Francis P. Mulcahy</a></li></ul></div><div class=\"mw-category-group\"><h3>N</h3>\n",
    "<ul><li><a href=\"/wiki/Alfred_H._Noble\" title=\"Alfred H. Noble\">Alfred H. Noble</a></li></ul></div><div class=\"mw-category-group\"><h3>O</h3>\n",
    "<ul><li><a href=\"/wiki/Edward_Albert_Ostermann\" title=\"Edward Albert Ostermann\">Edward Albert Ostermann</a></li></ul></div><div class=\"mw-category-group\"><h3>P</h3>\n",
    "<ul><li><a href=\"/wiki/DeWitt_Peck\" title=\"DeWitt Peck\">DeWitt Peck</a></li>\n",
    "<li><a href=\"/wiki/Robert_H._Pepper\" title=\"Robert H. Pepper\">Robert H. Pepper</a></li>\n",
    "<li><a href=\"/wiki/Harry_K._Pickett\" title=\"Harry K. Pickett\">Harry K. Pickett</a></li>\n",
    "<li><a href=\"/wiki/Charles_F._B._Price\" title=\"Charles F. B. Price\">Charles F. B. Price</a></li>\n",
    "<li><a href=\"/wiki/Bennet_Puryear_Jr.\" title=\"Bennet Puryear Jr.\">Bennet Puryear Jr.</a></li></ul></div><div class=\"mw-category-group\"><h3>R</h3>\n",
    "<ul><li><a href=\"/wiki/Leonard_E._Rea\" title=\"Leonard E. Rea\">Leonard E. Rea</a></li>\n",
    "<li><a href=\"/wiki/William_E._Riley\" title=\"William E. Riley\">William E. Riley</a></li>\n",
    "<li><a href=\"/wiki/Ray_A._Robinson\" title=\"Ray A. Robinson\">Ray A. Robinson</a></li>\n",
    "<li><a href=\"/wiki/Keller_E._Rockey\" title=\"Keller E. Rockey\">Keller E. Rockey</a></li>\n",
    "<li><a href=\"/wiki/Ford_O._Rogers\" title=\"Ford O. Rogers\">Ford O. Rogers</a></li>\n",
    "<li><a href=\"/wiki/William_W._Rogers\" title=\"William W. Rogers\">William W. Rogers</a></li>\n",
    "<li><a href=\"/wiki/Ross_E._Rowell\" title=\"Ross E. Rowell\">Ross E. Rowell</a></li>\n",
    "<li><a href=\"/wiki/William_H._Rupertus\" title=\"William H. Rupertus\">William H. Rupertus</a></li></ul></div><div class=\"mw-category-group\"><h3>S</h3>\n",
    "<ul><li><a href=\"/wiki/Lawson_H._M._Sanderson\" title=\"Lawson H. M. Sanderson\">Lawson H. M. Sanderson</a></li>\n",
    "<li><a href=\"/wiki/Christian_F._Schilt\" title=\"Christian F. Schilt\">Christian F. Schilt</a></li>\n",
    "<li><a href=\"/wiki/Harry_Schmidt_(USMC)\" title=\"Harry Schmidt (USMC)\">Harry Schmidt (USMC)</a></li>\n",
    "<li><a href=\"/wiki/Maurice_E._Shearer\" title=\"Maurice E. Shearer\">Maurice E. Shearer</a></li>\n",
    "<li><a href=\"/wiki/Lemuel_C._Shepherd_Jr.\" title=\"Lemuel C. Shepherd Jr.\">Lemuel C. Shepherd Jr.</a></li>\n",
    "<li><a href=\"/wiki/Merwin_H._Silverthorn\" title=\"Merwin H. Silverthorn\">Merwin H. Silverthorn</a></li>\n",
    "<li><a href=\"/wiki/Holland_Smith\" title=\"Holland Smith\">Holland Smith</a></li>\n",
    "<li><a href=\"/wiki/Julian_C._Smith\" title=\"Julian C. Smith\">Julian C. Smith</a></li>\n",
    "<li><a href=\"/wiki/Oliver_P._Smith\" title=\"Oliver P. Smith\">Oliver P. Smith</a></li></ul></div><div class=\"mw-category-group\"><h3>T</h3>\n",
    "<ul><li><a href=\"/wiki/Gerald_C._Thomas\" title=\"Gerald C. Thomas\">Gerald C. Thomas</a></li>\n",
    "<li><a href=\"/wiki/Philip_H._Torrey\" title=\"Philip H. Torrey\">Philip H. Torrey</a></li>\n",
    "<li><a href=\"/wiki/Allen_H._Turnage\" title=\"Allen H. Turnage\">Allen H. Turnage</a></li></ul></div><div class=\"mw-category-group\"><h3>U</h3>\n",
    "<ul><li><a href=\"/wiki/James_L._Underhill\" title=\"James L. Underhill\">James L. Underhill</a></li>\n",
    "<li><a href=\"/wiki/William_P._Upshur\" title=\"William P. Upshur\">William P. Upshur</a></li></ul></div><div class=\"mw-category-group\"><h3>V</h3>\n",
    "<ul><li><a href=\"/wiki/Alexander_Vandegrift\" title=\"Alexander Vandegrift\">Alexander Vandegrift</a></li>\n",
    "<li><a href=\"/wiki/Clayton_Barney_Vogel\" title=\"Clayton Barney Vogel\">Clayton Barney Vogel</a></li></ul></div><div class=\"mw-category-group\"><h3>W</h3>\n",
    "<ul><li><a href=\"/wiki/John_T._Walker_(USMC)\" title=\"John T. Walker (USMC)\">John T. Walker (USMC)</a></li>\n",
    "<li><a href=\"/wiki/William_J._Wallace_(USMC)\" title=\"William J. Wallace (USMC)\">William J. Wallace (USMC)</a></li>\n",
    "<li><a href=\"/wiki/Littleton_W._T._Waller_Jr.\" title=\"Littleton W. T. Waller Jr.\">Littleton W. T. Waller Jr.</a></li>\n",
    "<li><a href=\"/wiki/Thomas_E._Watson_(USMC)\" title=\"Thomas E. Watson (USMC)\">Thomas E. Watson (USMC)</a></li>\n",
    "<li><a href=\"/wiki/William_J._Whaling\" title=\"William J. Whaling\">William J. Whaling</a></li>\n",
    "<li><a href=\"/wiki/Seth_Williams_(USMC)\" title=\"Seth Williams (USMC)\">Seth Williams (USMC)</a></li>\n",
    "<li><a href=\"/wiki/Louis_E._Woods\" title=\"Louis E. Woods\">Louis E. Woods</a></li>\n",
    "<li><a href=\"/wiki/William_A._Worton\" title=\"William A. Worton\">William A. Worton</a></li>\n",
    "<li><a href=\"/wiki/Raymond_R._Wright_(USMC)\" title=\"Raymond R. Wright (USMC)\">Raymond R. Wright (USMC)</a></li></ul></div></div></div>\"\"\""
   ]
  },
  {
   "cell_type": "code",
   "execution_count": null,
   "metadata": {
    "collapsed": true
   },
   "outputs": [],
   "source": [
    "import re"
   ]
  },
  {
   "cell_type": "code",
   "execution_count": null,
   "metadata": {
    "collapsed": true
   },
   "outputs": [],
   "source": [
    "x = re.findall('\"\\/wiki\\/\\S*', fastDataFrame) "
   ]
  },
  {
   "cell_type": "code",
   "execution_count": null,
   "metadata": {},
   "outputs": [],
   "source": [
    "l=[]\n",
    "for link in x:\n",
    "    l.append(\"https://en.wikipedia.org\"+link[1:-2])\n",
    "l"
   ]
  },
  {
   "cell_type": "code",
   "execution_count": null,
   "metadata": {},
   "outputs": [],
   "source": [
    "carDataFrame['Model']"
   ]
  },
  {
   "cell_type": "code",
   "execution_count": null,
   "metadata": {},
   "outputs": [],
   "source": [
    "carDataFrame.columns"
   ]
  },
  {
   "cell_type": "code",
   "execution_count": null,
   "metadata": {},
   "outputs": [],
   "source": [
    "DataFrame(carDataFrame,columns=['speed','type'])#!!!"
   ]
  },
  {
   "cell_type": "code",
   "execution_count": null,
   "metadata": {},
   "outputs": [],
   "source": [
    "carDataFrame.head()"
   ]
  },
  {
   "cell_type": "code",
   "execution_count": null,
   "metadata": {},
   "outputs": [],
   "source": [
    "carDataFrame.tail()"
   ]
  },
  {
   "cell_type": "code",
   "execution_count": null,
   "metadata": {},
   "outputs": [],
   "source": [
    "carDataFrame.ix[2]"
   ]
  },
  {
   "cell_type": "code",
   "execution_count": null,
   "metadata": {
    "collapsed": true
   },
   "outputs": [],
   "source": [
    "carDataFrame['type']='GAS'"
   ]
  },
  {
   "cell_type": "code",
   "execution_count": null,
   "metadata": {},
   "outputs": [],
   "source": [
    "carDataFrame# can pass rang"
   ]
  },
  {
   "cell_type": "code",
   "execution_count": null,
   "metadata": {
    "collapsed": true
   },
   "outputs": [],
   "source": [
    "type=Series(['99','100'],index=[2,7])"
   ]
  },
  {
   "cell_type": "code",
   "execution_count": null,
   "metadata": {},
   "outputs": [],
   "source": [
    "type"
   ]
  },
  {
   "cell_type": "code",
   "execution_count": null,
   "metadata": {
    "collapsed": true
   },
   "outputs": [],
   "source": [
    "carDataFrame['type']=type"
   ]
  },
  {
   "cell_type": "code",
   "execution_count": null,
   "metadata": {},
   "outputs": [],
   "source": [
    "carDataFrame"
   ]
  },
  {
   "cell_type": "code",
   "execution_count": null,
   "metadata": {
    "collapsed": true
   },
   "outputs": [],
   "source": [
    "data = {'city':['SF','LA','NUC'],'pop':[837000,3880000,8400000]}"
   ]
  },
  {
   "cell_type": "code",
   "execution_count": null,
   "metadata": {
    "collapsed": true
   },
   "outputs": [],
   "source": [
    "cityDataframe=DataFrame(data)"
   ]
  },
  {
   "cell_type": "code",
   "execution_count": null,
   "metadata": {},
   "outputs": [],
   "source": [
    "cityDataframe"
   ]
  },
  {
   "cell_type": "code",
   "execution_count": null,
   "metadata": {
    "collapsed": true
   },
   "outputs": [],
   "source": [
    "#index"
   ]
  },
  {
   "cell_type": "code",
   "execution_count": null,
   "metadata": {},
   "outputs": [],
   "source": [
    "myIndex=cityDataframe.index"
   ]
  },
  {
   "cell_type": "code",
   "execution_count": null,
   "metadata": {},
   "outputs": [],
   "source": [
    "myIndex"
   ]
  },
  {
   "cell_type": "code",
   "execution_count": null,
   "metadata": {
    "collapsed": true
   },
   "outputs": [],
   "source": [
    "myIndex2=carDataFrame.index"
   ]
  },
  {
   "cell_type": "code",
   "execution_count": null,
   "metadata": {},
   "outputs": [],
   "source": [
    "myIndex2[3:6]"
   ]
  },
  {
   "cell_type": "code",
   "execution_count": null,
   "metadata": {},
   "outputs": [],
   "source": [
    "myIndex[1]='dd' #???!!"
   ]
  },
  {
   "cell_type": "code",
   "execution_count": 47,
   "metadata": {
    "collapsed": true
   },
   "outputs": [],
   "source": [
    "#reindex"
   ]
  },
  {
   "cell_type": "code",
   "execution_count": 52,
   "metadata": {
    "collapsed": true
   },
   "outputs": [],
   "source": [
    "s1= Series([1,2,3],index=['A','B','C'])"
   ]
  },
  {
   "cell_type": "code",
   "execution_count": 53,
   "metadata": {},
   "outputs": [
    {
     "data": {
      "text/plain": [
       "Index(['A', 'B', 'C'], dtype='object')"
      ]
     },
     "execution_count": 53,
     "metadata": {},
     "output_type": "execute_result"
    }
   ],
   "source": [
    "s1.index"
   ]
  },
  {
   "cell_type": "code",
   "execution_count": 54,
   "metadata": {
    "collapsed": true
   },
   "outputs": [],
   "source": [
    "s2 = s1.reindex(['a','b','c','d','f'])"
   ]
  },
  {
   "cell_type": "code",
   "execution_count": 55,
   "metadata": {},
   "outputs": [
    {
     "data": {
      "text/plain": [
       "a   NaN\n",
       "b   NaN\n",
       "c   NaN\n",
       "d   NaN\n",
       "f   NaN\n",
       "dtype: float64"
      ]
     },
     "execution_count": 55,
     "metadata": {},
     "output_type": "execute_result"
    }
   ],
   "source": [
    "s2"
   ]
  },
  {
   "cell_type": "code",
   "execution_count": 56,
   "metadata": {
    "collapsed": true
   },
   "outputs": [],
   "source": [
    "s2 = s1.reindex(['A','b','C','d','f'])"
   ]
  },
  {
   "cell_type": "code",
   "execution_count": 57,
   "metadata": {},
   "outputs": [
    {
     "data": {
      "text/plain": [
       "A    1.0\n",
       "b    NaN\n",
       "C    3.0\n",
       "d    NaN\n",
       "f    NaN\n",
       "dtype: float64"
      ]
     },
     "execution_count": 57,
     "metadata": {},
     "output_type": "execute_result"
    }
   ],
   "source": [
    "s2"
   ]
  },
  {
   "cell_type": "code",
   "execution_count": 61,
   "metadata": {
    "collapsed": true
   },
   "outputs": [],
   "source": [
    "ranger=['ben','paul','nate']"
   ]
  },
  {
   "cell_type": "code",
   "execution_count": 62,
   "metadata": {},
   "outputs": [],
   "source": [
    "s3=s1.reindex(ranger,method='ffill')"
   ]
  },
  {
   "cell_type": "code",
   "execution_count": 63,
   "metadata": {},
   "outputs": [
    {
     "data": {
      "text/plain": [
       "ben     3\n",
       "paul    3\n",
       "nate    3\n",
       "dtype: int64"
      ]
     },
     "execution_count": 63,
     "metadata": {},
     "output_type": "execute_result"
    }
   ],
   "source": [
    "s3"
   ]
  },
  {
   "cell_type": "code",
   "execution_count": 67,
   "metadata": {},
   "outputs": [],
   "source": [
    "ss1= Series([1,2,3,4,5,6,7,8,9,10])"
   ]
  },
  {
   "cell_type": "code",
   "execution_count": 68,
   "metadata": {},
   "outputs": [
    {
     "ename": "TypeError",
     "evalue": "'>' not supported between instances of 'int' and 'str'",
     "output_type": "error",
     "traceback": [
      "\u001b[0;31m---------------------------------------------------------------------------\u001b[0m",
      "\u001b[0;31mTypeError\u001b[0m                                 Traceback (most recent call last)",
      "\u001b[0;32m<ipython-input-68-2e4fd86968c9>\u001b[0m in \u001b[0;36m<module>\u001b[0;34m()\u001b[0m\n\u001b[0;32m----> 1\u001b[0;31m \u001b[0mss3\u001b[0m\u001b[0;34m=\u001b[0m\u001b[0mss1\u001b[0m\u001b[0;34m.\u001b[0m\u001b[0mreindex\u001b[0m\u001b[0;34m(\u001b[0m\u001b[0mranger\u001b[0m\u001b[0;34m,\u001b[0m\u001b[0mmethod\u001b[0m\u001b[0;34m=\u001b[0m\u001b[0;34m'ffill'\u001b[0m\u001b[0;34m)\u001b[0m\u001b[0;34m\u001b[0m\u001b[0;34m\u001b[0m\u001b[0m\n\u001b[0m",
      "\u001b[0;32m~/anaconda/envs/Python36/lib/python3.6/site-packages/pandas/core/series.py\u001b[0m in \u001b[0;36mreindex\u001b[0;34m(self, index, **kwargs)\u001b[0m\n\u001b[1;32m   2424\u001b[0m     \u001b[0;34m@\u001b[0m\u001b[0mAppender\u001b[0m\u001b[0;34m(\u001b[0m\u001b[0mgeneric\u001b[0m\u001b[0;34m.\u001b[0m\u001b[0m_shared_docs\u001b[0m\u001b[0;34m[\u001b[0m\u001b[0;34m'reindex'\u001b[0m\u001b[0;34m]\u001b[0m \u001b[0;34m%\u001b[0m \u001b[0m_shared_doc_kwargs\u001b[0m\u001b[0;34m)\u001b[0m\u001b[0;34m\u001b[0m\u001b[0;34m\u001b[0m\u001b[0m\n\u001b[1;32m   2425\u001b[0m     \u001b[0;32mdef\u001b[0m \u001b[0mreindex\u001b[0m\u001b[0;34m(\u001b[0m\u001b[0mself\u001b[0m\u001b[0;34m,\u001b[0m \u001b[0mindex\u001b[0m\u001b[0;34m=\u001b[0m\u001b[0;32mNone\u001b[0m\u001b[0;34m,\u001b[0m \u001b[0;34m**\u001b[0m\u001b[0mkwargs\u001b[0m\u001b[0;34m)\u001b[0m\u001b[0;34m:\u001b[0m\u001b[0;34m\u001b[0m\u001b[0;34m\u001b[0m\u001b[0m\n\u001b[0;32m-> 2426\u001b[0;31m         \u001b[0;32mreturn\u001b[0m \u001b[0msuper\u001b[0m\u001b[0;34m(\u001b[0m\u001b[0mSeries\u001b[0m\u001b[0;34m,\u001b[0m \u001b[0mself\u001b[0m\u001b[0;34m)\u001b[0m\u001b[0;34m.\u001b[0m\u001b[0mreindex\u001b[0m\u001b[0;34m(\u001b[0m\u001b[0mindex\u001b[0m\u001b[0;34m=\u001b[0m\u001b[0mindex\u001b[0m\u001b[0;34m,\u001b[0m \u001b[0;34m**\u001b[0m\u001b[0mkwargs\u001b[0m\u001b[0;34m)\u001b[0m\u001b[0;34m\u001b[0m\u001b[0;34m\u001b[0m\u001b[0m\n\u001b[0m\u001b[1;32m   2427\u001b[0m \u001b[0;34m\u001b[0m\u001b[0m\n\u001b[1;32m   2428\u001b[0m     \u001b[0;34m@\u001b[0m\u001b[0mAppender\u001b[0m\u001b[0;34m(\u001b[0m\u001b[0mgeneric\u001b[0m\u001b[0;34m.\u001b[0m\u001b[0m_shared_docs\u001b[0m\u001b[0;34m[\u001b[0m\u001b[0;34m'fillna'\u001b[0m\u001b[0;34m]\u001b[0m \u001b[0;34m%\u001b[0m \u001b[0m_shared_doc_kwargs\u001b[0m\u001b[0;34m)\u001b[0m\u001b[0;34m\u001b[0m\u001b[0;34m\u001b[0m\u001b[0m\n",
      "\u001b[0;32m~/anaconda/envs/Python36/lib/python3.6/site-packages/pandas/core/generic.py\u001b[0m in \u001b[0;36mreindex\u001b[0;34m(self, *args, **kwargs)\u001b[0m\n\u001b[1;32m   2513\u001b[0m         \u001b[0;31m# perform the reindex on the axes\u001b[0m\u001b[0;34m\u001b[0m\u001b[0;34m\u001b[0m\u001b[0;34m\u001b[0m\u001b[0m\n\u001b[1;32m   2514\u001b[0m         return self._reindex_axes(axes, level, limit, tolerance, method,\n\u001b[0;32m-> 2515\u001b[0;31m                                   fill_value, copy).__finalize__(self)\n\u001b[0m\u001b[1;32m   2516\u001b[0m \u001b[0;34m\u001b[0m\u001b[0m\n\u001b[1;32m   2517\u001b[0m     def _reindex_axes(self, axes, level, limit, tolerance, method, fill_value,\n",
      "\u001b[0;32m~/anaconda/envs/Python36/lib/python3.6/site-packages/pandas/core/generic.py\u001b[0m in \u001b[0;36m_reindex_axes\u001b[0;34m(self, axes, level, limit, tolerance, method, fill_value, copy)\u001b[0m\n\u001b[1;32m   2526\u001b[0m             \u001b[0max\u001b[0m \u001b[0;34m=\u001b[0m \u001b[0mself\u001b[0m\u001b[0;34m.\u001b[0m\u001b[0m_get_axis\u001b[0m\u001b[0;34m(\u001b[0m\u001b[0ma\u001b[0m\u001b[0;34m)\u001b[0m\u001b[0;34m\u001b[0m\u001b[0;34m\u001b[0m\u001b[0m\n\u001b[1;32m   2527\u001b[0m             new_index, indexer = ax.reindex(labels, level=level, limit=limit,\n\u001b[0;32m-> 2528\u001b[0;31m                                             tolerance=tolerance, method=method)\n\u001b[0m\u001b[1;32m   2529\u001b[0m \u001b[0;34m\u001b[0m\u001b[0m\n\u001b[1;32m   2530\u001b[0m             \u001b[0maxis\u001b[0m \u001b[0;34m=\u001b[0m \u001b[0mself\u001b[0m\u001b[0;34m.\u001b[0m\u001b[0m_get_axis_number\u001b[0m\u001b[0;34m(\u001b[0m\u001b[0ma\u001b[0m\u001b[0;34m)\u001b[0m\u001b[0;34m\u001b[0m\u001b[0;34m\u001b[0m\u001b[0m\n",
      "\u001b[0;32m~/anaconda/envs/Python36/lib/python3.6/site-packages/pandas/core/indexes/base.py\u001b[0m in \u001b[0;36mreindex\u001b[0;34m(self, target, method, level, limit, tolerance)\u001b[0m\n\u001b[1;32m   2880\u001b[0m                     indexer = self.get_indexer(target, method=method,\n\u001b[1;32m   2881\u001b[0m                                                \u001b[0mlimit\u001b[0m\u001b[0;34m=\u001b[0m\u001b[0mlimit\u001b[0m\u001b[0;34m,\u001b[0m\u001b[0;34m\u001b[0m\u001b[0;34m\u001b[0m\u001b[0m\n\u001b[0;32m-> 2882\u001b[0;31m                                                tolerance=tolerance)\n\u001b[0m\u001b[1;32m   2883\u001b[0m                 \u001b[0;32melse\u001b[0m\u001b[0;34m:\u001b[0m\u001b[0;34m\u001b[0m\u001b[0;34m\u001b[0m\u001b[0m\n\u001b[1;32m   2884\u001b[0m                     \u001b[0;32mif\u001b[0m \u001b[0mmethod\u001b[0m \u001b[0;32mis\u001b[0m \u001b[0;32mnot\u001b[0m \u001b[0;32mNone\u001b[0m \u001b[0;32mor\u001b[0m \u001b[0mlimit\u001b[0m \u001b[0;32mis\u001b[0m \u001b[0;32mnot\u001b[0m \u001b[0;32mNone\u001b[0m\u001b[0;34m:\u001b[0m\u001b[0;34m\u001b[0m\u001b[0;34m\u001b[0m\u001b[0m\n",
      "\u001b[0;32m~/anaconda/envs/Python36/lib/python3.6/site-packages/pandas/core/indexes/base.py\u001b[0m in \u001b[0;36mget_indexer\u001b[0;34m(self, target, method, limit, tolerance)\u001b[0m\n\u001b[1;32m   2578\u001b[0m             \u001b[0mtarget\u001b[0m \u001b[0;34m=\u001b[0m \u001b[0mtarget\u001b[0m\u001b[0;34m.\u001b[0m\u001b[0mastype\u001b[0m\u001b[0;34m(\u001b[0m\u001b[0mobject\u001b[0m\u001b[0;34m)\u001b[0m\u001b[0;34m\u001b[0m\u001b[0;34m\u001b[0m\u001b[0m\n\u001b[1;32m   2579\u001b[0m             return this.get_indexer(target, method=method, limit=limit,\n\u001b[0;32m-> 2580\u001b[0;31m                                     tolerance=tolerance)\n\u001b[0m\u001b[1;32m   2581\u001b[0m \u001b[0;34m\u001b[0m\u001b[0m\n\u001b[1;32m   2582\u001b[0m         \u001b[0;32mif\u001b[0m \u001b[0;32mnot\u001b[0m \u001b[0mself\u001b[0m\u001b[0;34m.\u001b[0m\u001b[0mis_unique\u001b[0m\u001b[0;34m:\u001b[0m\u001b[0;34m\u001b[0m\u001b[0;34m\u001b[0m\u001b[0m\n",
      "\u001b[0;32m~/anaconda/envs/Python36/lib/python3.6/site-packages/pandas/core/indexes/base.py\u001b[0m in \u001b[0;36mget_indexer\u001b[0;34m(self, target, method, limit, tolerance)\u001b[0m\n\u001b[1;32m   2585\u001b[0m \u001b[0;34m\u001b[0m\u001b[0m\n\u001b[1;32m   2586\u001b[0m         \u001b[0;32mif\u001b[0m \u001b[0mmethod\u001b[0m \u001b[0;34m==\u001b[0m \u001b[0;34m'pad'\u001b[0m \u001b[0;32mor\u001b[0m \u001b[0mmethod\u001b[0m \u001b[0;34m==\u001b[0m \u001b[0;34m'backfill'\u001b[0m\u001b[0;34m:\u001b[0m\u001b[0;34m\u001b[0m\u001b[0;34m\u001b[0m\u001b[0m\n\u001b[0;32m-> 2587\u001b[0;31m             \u001b[0mindexer\u001b[0m \u001b[0;34m=\u001b[0m \u001b[0mself\u001b[0m\u001b[0;34m.\u001b[0m\u001b[0m_get_fill_indexer\u001b[0m\u001b[0;34m(\u001b[0m\u001b[0mtarget\u001b[0m\u001b[0;34m,\u001b[0m \u001b[0mmethod\u001b[0m\u001b[0;34m,\u001b[0m \u001b[0mlimit\u001b[0m\u001b[0;34m,\u001b[0m \u001b[0mtolerance\u001b[0m\u001b[0;34m)\u001b[0m\u001b[0;34m\u001b[0m\u001b[0;34m\u001b[0m\u001b[0m\n\u001b[0m\u001b[1;32m   2588\u001b[0m         \u001b[0;32melif\u001b[0m \u001b[0mmethod\u001b[0m \u001b[0;34m==\u001b[0m \u001b[0;34m'nearest'\u001b[0m\u001b[0;34m:\u001b[0m\u001b[0;34m\u001b[0m\u001b[0;34m\u001b[0m\u001b[0m\n\u001b[1;32m   2589\u001b[0m             \u001b[0mindexer\u001b[0m \u001b[0;34m=\u001b[0m \u001b[0mself\u001b[0m\u001b[0;34m.\u001b[0m\u001b[0m_get_nearest_indexer\u001b[0m\u001b[0;34m(\u001b[0m\u001b[0mtarget\u001b[0m\u001b[0;34m,\u001b[0m \u001b[0mlimit\u001b[0m\u001b[0;34m,\u001b[0m \u001b[0mtolerance\u001b[0m\u001b[0;34m)\u001b[0m\u001b[0;34m\u001b[0m\u001b[0;34m\u001b[0m\u001b[0m\n",
      "\u001b[0;32m~/anaconda/envs/Python36/lib/python3.6/site-packages/pandas/core/indexes/base.py\u001b[0m in \u001b[0;36m_get_fill_indexer\u001b[0;34m(self, target, method, limit, tolerance)\u001b[0m\n\u001b[1;32m   2611\u001b[0m         \u001b[0;32melse\u001b[0m\u001b[0;34m:\u001b[0m\u001b[0;34m\u001b[0m\u001b[0;34m\u001b[0m\u001b[0m\n\u001b[1;32m   2612\u001b[0m             indexer = self._get_fill_indexer_searchsorted(target, method,\n\u001b[0;32m-> 2613\u001b[0;31m                                                           limit)\n\u001b[0m\u001b[1;32m   2614\u001b[0m         \u001b[0;32mif\u001b[0m \u001b[0mtolerance\u001b[0m \u001b[0;32mis\u001b[0m \u001b[0;32mnot\u001b[0m \u001b[0;32mNone\u001b[0m\u001b[0;34m:\u001b[0m\u001b[0;34m\u001b[0m\u001b[0;34m\u001b[0m\u001b[0m\n\u001b[1;32m   2615\u001b[0m             indexer = self._filter_indexer_tolerance(target._values, indexer,\n",
      "\u001b[0;32m~/anaconda/envs/Python36/lib/python3.6/site-packages/pandas/core/indexes/base.py\u001b[0m in \u001b[0;36m_get_fill_indexer_searchsorted\u001b[0;34m(self, target, method, limit)\u001b[0m\n\u001b[1;32m   2632\u001b[0m         \u001b[0mnonexact\u001b[0m \u001b[0;34m=\u001b[0m \u001b[0;34m(\u001b[0m\u001b[0mindexer\u001b[0m \u001b[0;34m==\u001b[0m \u001b[0;34m-\u001b[0m\u001b[0;36m1\u001b[0m\u001b[0;34m)\u001b[0m\u001b[0;34m\u001b[0m\u001b[0;34m\u001b[0m\u001b[0m\n\u001b[1;32m   2633\u001b[0m         indexer[nonexact] = self._searchsorted_monotonic(target[nonexact],\n\u001b[0;32m-> 2634\u001b[0;31m                                                          side)\n\u001b[0m\u001b[1;32m   2635\u001b[0m         \u001b[0;32mif\u001b[0m \u001b[0mside\u001b[0m \u001b[0;34m==\u001b[0m \u001b[0;34m'left'\u001b[0m\u001b[0;34m:\u001b[0m\u001b[0;34m\u001b[0m\u001b[0;34m\u001b[0m\u001b[0m\n\u001b[1;32m   2636\u001b[0m             \u001b[0;31m# searchsorted returns \"indices into a sorted array such that,\u001b[0m\u001b[0;34m\u001b[0m\u001b[0;34m\u001b[0m\u001b[0;34m\u001b[0m\u001b[0m\n",
      "\u001b[0;32m~/anaconda/envs/Python36/lib/python3.6/site-packages/pandas/core/indexes/base.py\u001b[0m in \u001b[0;36m_searchsorted_monotonic\u001b[0;34m(self, label, side)\u001b[0m\n\u001b[1;32m   3432\u001b[0m     \u001b[0;32mdef\u001b[0m \u001b[0m_searchsorted_monotonic\u001b[0m\u001b[0;34m(\u001b[0m\u001b[0mself\u001b[0m\u001b[0;34m,\u001b[0m \u001b[0mlabel\u001b[0m\u001b[0;34m,\u001b[0m \u001b[0mside\u001b[0m\u001b[0;34m=\u001b[0m\u001b[0;34m'left'\u001b[0m\u001b[0;34m)\u001b[0m\u001b[0;34m:\u001b[0m\u001b[0;34m\u001b[0m\u001b[0;34m\u001b[0m\u001b[0m\n\u001b[1;32m   3433\u001b[0m         \u001b[0;32mif\u001b[0m \u001b[0mself\u001b[0m\u001b[0;34m.\u001b[0m\u001b[0mis_monotonic_increasing\u001b[0m\u001b[0;34m:\u001b[0m\u001b[0;34m\u001b[0m\u001b[0;34m\u001b[0m\u001b[0m\n\u001b[0;32m-> 3434\u001b[0;31m             \u001b[0;32mreturn\u001b[0m \u001b[0mself\u001b[0m\u001b[0;34m.\u001b[0m\u001b[0msearchsorted\u001b[0m\u001b[0;34m(\u001b[0m\u001b[0mlabel\u001b[0m\u001b[0;34m,\u001b[0m \u001b[0mside\u001b[0m\u001b[0;34m=\u001b[0m\u001b[0mside\u001b[0m\u001b[0;34m)\u001b[0m\u001b[0;34m\u001b[0m\u001b[0;34m\u001b[0m\u001b[0m\n\u001b[0m\u001b[1;32m   3435\u001b[0m         \u001b[0;32melif\u001b[0m \u001b[0mself\u001b[0m\u001b[0;34m.\u001b[0m\u001b[0mis_monotonic_decreasing\u001b[0m\u001b[0;34m:\u001b[0m\u001b[0;34m\u001b[0m\u001b[0;34m\u001b[0m\u001b[0m\n\u001b[1;32m   3436\u001b[0m             \u001b[0;31m# np.searchsorted expects ascending sort order, have to reverse\u001b[0m\u001b[0;34m\u001b[0m\u001b[0;34m\u001b[0m\u001b[0;34m\u001b[0m\u001b[0m\n",
      "\u001b[0;32m~/anaconda/envs/Python36/lib/python3.6/site-packages/pandas/util/_decorators.py\u001b[0m in \u001b[0;36mwrapper\u001b[0;34m(*args, **kwargs)\u001b[0m\n\u001b[1;32m     89\u001b[0m                 \u001b[0;32melse\u001b[0m\u001b[0;34m:\u001b[0m\u001b[0;34m\u001b[0m\u001b[0;34m\u001b[0m\u001b[0m\n\u001b[1;32m     90\u001b[0m                     \u001b[0mkwargs\u001b[0m\u001b[0;34m[\u001b[0m\u001b[0mnew_arg_name\u001b[0m\u001b[0;34m]\u001b[0m \u001b[0;34m=\u001b[0m \u001b[0mnew_arg_value\u001b[0m\u001b[0;34m\u001b[0m\u001b[0;34m\u001b[0m\u001b[0m\n\u001b[0;32m---> 91\u001b[0;31m             \u001b[0;32mreturn\u001b[0m \u001b[0mfunc\u001b[0m\u001b[0;34m(\u001b[0m\u001b[0;34m*\u001b[0m\u001b[0margs\u001b[0m\u001b[0;34m,\u001b[0m \u001b[0;34m**\u001b[0m\u001b[0mkwargs\u001b[0m\u001b[0;34m)\u001b[0m\u001b[0;34m\u001b[0m\u001b[0;34m\u001b[0m\u001b[0m\n\u001b[0m\u001b[1;32m     92\u001b[0m         \u001b[0;32mreturn\u001b[0m \u001b[0mwrapper\u001b[0m\u001b[0;34m\u001b[0m\u001b[0;34m\u001b[0m\u001b[0m\n\u001b[1;32m     93\u001b[0m     \u001b[0;32mreturn\u001b[0m \u001b[0m_deprecate_kwarg\u001b[0m\u001b[0;34m\u001b[0m\u001b[0;34m\u001b[0m\u001b[0m\n",
      "\u001b[0;32m~/anaconda/envs/Python36/lib/python3.6/site-packages/pandas/core/base.py\u001b[0m in \u001b[0;36msearchsorted\u001b[0;34m(self, value, side, sorter)\u001b[0m\n\u001b[1;32m   1165\u001b[0m     \u001b[0;32mdef\u001b[0m \u001b[0msearchsorted\u001b[0m\u001b[0;34m(\u001b[0m\u001b[0mself\u001b[0m\u001b[0;34m,\u001b[0m \u001b[0mvalue\u001b[0m\u001b[0;34m,\u001b[0m \u001b[0mside\u001b[0m\u001b[0;34m=\u001b[0m\u001b[0;34m'left'\u001b[0m\u001b[0;34m,\u001b[0m \u001b[0msorter\u001b[0m\u001b[0;34m=\u001b[0m\u001b[0;32mNone\u001b[0m\u001b[0;34m)\u001b[0m\u001b[0;34m:\u001b[0m\u001b[0;34m\u001b[0m\u001b[0;34m\u001b[0m\u001b[0m\n\u001b[1;32m   1166\u001b[0m         \u001b[0;31m# needs coercion on the key (DatetimeIndex does already)\u001b[0m\u001b[0;34m\u001b[0m\u001b[0;34m\u001b[0m\u001b[0;34m\u001b[0m\u001b[0m\n\u001b[0;32m-> 1167\u001b[0;31m         \u001b[0;32mreturn\u001b[0m \u001b[0mself\u001b[0m\u001b[0;34m.\u001b[0m\u001b[0mvalues\u001b[0m\u001b[0;34m.\u001b[0m\u001b[0msearchsorted\u001b[0m\u001b[0;34m(\u001b[0m\u001b[0mvalue\u001b[0m\u001b[0;34m,\u001b[0m \u001b[0mside\u001b[0m\u001b[0;34m=\u001b[0m\u001b[0mside\u001b[0m\u001b[0;34m,\u001b[0m \u001b[0msorter\u001b[0m\u001b[0;34m=\u001b[0m\u001b[0msorter\u001b[0m\u001b[0;34m)\u001b[0m\u001b[0;34m\u001b[0m\u001b[0;34m\u001b[0m\u001b[0m\n\u001b[0m\u001b[1;32m   1168\u001b[0m \u001b[0;34m\u001b[0m\u001b[0m\n\u001b[1;32m   1169\u001b[0m     _shared_docs['drop_duplicates'] = (\n",
      "\u001b[0;31mTypeError\u001b[0m: '>' not supported between instances of 'int' and 'str'"
     ]
    }
   ],
   "source": [
    "ss3=ss1.reindex(ranger,method='ffill')"
   ]
  },
  {
   "cell_type": "code",
   "execution_count": 77,
   "metadata": {
    "collapsed": true
   },
   "outputs": [],
   "source": [
    "ss1= Series([1,2,3,4,5,6,7,8,9,10],index=['a','b','c','d','e','f','g','h','l','q'])"
   ]
  },
  {
   "cell_type": "code",
   "execution_count": 78,
   "metadata": {},
   "outputs": [
    {
     "data": {
      "text/plain": [
       "a     1\n",
       "b     2\n",
       "c     3\n",
       "d     4\n",
       "e     5\n",
       "f     6\n",
       "g     7\n",
       "h     8\n",
       "l     9\n",
       "q    10\n",
       "dtype: int64"
      ]
     },
     "execution_count": 78,
     "metadata": {},
     "output_type": "execute_result"
    }
   ],
   "source": [
    "ss1"
   ]
  },
  {
   "cell_type": "code",
   "execution_count": 79,
   "metadata": {
    "collapsed": true
   },
   "outputs": [],
   "source": [
    "ss3=ss1.reindex(ranger,method='ffill')"
   ]
  },
  {
   "cell_type": "code",
   "execution_count": 81,
   "metadata": {},
   "outputs": [
    {
     "data": {
      "text/plain": [
       "ben     2\n",
       "paul    9\n",
       "nate    9\n",
       "dtype: int64"
      ]
     },
     "execution_count": 81,
     "metadata": {},
     "output_type": "execute_result"
    }
   ],
   "source": [
    "ss3#what happend here "
   ]
  },
  {
   "cell_type": "code",
   "execution_count": 84,
   "metadata": {},
   "outputs": [],
   "source": [
    "dfram= DataFrame(randn(25).reshape((5,5)),index=['A','B','D','E','F'],columns=['c1','c2','c3','c4','c5'])"
   ]
  },
  {
   "cell_type": "code",
   "execution_count": 85,
   "metadata": {},
   "outputs": [
    {
     "data": {
      "text/html": [
       "<div>\n",
       "<style>\n",
       "    .dataframe thead tr:only-child th {\n",
       "        text-align: right;\n",
       "    }\n",
       "\n",
       "    .dataframe thead th {\n",
       "        text-align: left;\n",
       "    }\n",
       "\n",
       "    .dataframe tbody tr th {\n",
       "        vertical-align: top;\n",
       "    }\n",
       "</style>\n",
       "<table border=\"1\" class=\"dataframe\">\n",
       "  <thead>\n",
       "    <tr style=\"text-align: right;\">\n",
       "      <th></th>\n",
       "      <th>c1</th>\n",
       "      <th>c2</th>\n",
       "      <th>c3</th>\n",
       "      <th>c4</th>\n",
       "      <th>c5</th>\n",
       "    </tr>\n",
       "  </thead>\n",
       "  <tbody>\n",
       "    <tr>\n",
       "      <th>A</th>\n",
       "      <td>1.366642</td>\n",
       "      <td>1.201137</td>\n",
       "      <td>-2.038773</td>\n",
       "      <td>-0.722937</td>\n",
       "      <td>-0.886050</td>\n",
       "    </tr>\n",
       "    <tr>\n",
       "      <th>B</th>\n",
       "      <td>0.106106</td>\n",
       "      <td>1.428908</td>\n",
       "      <td>-0.174537</td>\n",
       "      <td>1.730078</td>\n",
       "      <td>-1.038694</td>\n",
       "    </tr>\n",
       "    <tr>\n",
       "      <th>D</th>\n",
       "      <td>0.364653</td>\n",
       "      <td>1.013020</td>\n",
       "      <td>-0.863185</td>\n",
       "      <td>0.818745</td>\n",
       "      <td>-0.243224</td>\n",
       "    </tr>\n",
       "    <tr>\n",
       "      <th>E</th>\n",
       "      <td>-0.375569</td>\n",
       "      <td>0.552746</td>\n",
       "      <td>-1.059193</td>\n",
       "      <td>-0.712527</td>\n",
       "      <td>-0.246313</td>\n",
       "    </tr>\n",
       "    <tr>\n",
       "      <th>F</th>\n",
       "      <td>1.326508</td>\n",
       "      <td>-0.935854</td>\n",
       "      <td>-0.507606</td>\n",
       "      <td>0.792201</td>\n",
       "      <td>0.991326</td>\n",
       "    </tr>\n",
       "  </tbody>\n",
       "</table>\n",
       "</div>"
      ],
      "text/plain": [
       "         c1        c2        c3        c4        c5\n",
       "A  1.366642  1.201137 -2.038773 -0.722937 -0.886050\n",
       "B  0.106106  1.428908 -0.174537  1.730078 -1.038694\n",
       "D  0.364653  1.013020 -0.863185  0.818745 -0.243224\n",
       "E -0.375569  0.552746 -1.059193 -0.712527 -0.246313\n",
       "F  1.326508 -0.935854 -0.507606  0.792201  0.991326"
      ]
     },
     "execution_count": 85,
     "metadata": {},
     "output_type": "execute_result"
    }
   ],
   "source": [
    "dfram"
   ]
  },
  {
   "cell_type": "code",
   "execution_count": 86,
   "metadata": {
    "collapsed": true
   },
   "outputs": [],
   "source": [
    "#python3 VS 2"
   ]
  },
  {
   "cell_type": "code",
   "execution_count": 87,
   "metadata": {
    "collapsed": true
   },
   "outputs": [],
   "source": [
    "dfram2 = dfram.reindex(['A','B','C','D','E','F'],)"
   ]
  },
  {
   "cell_type": "code",
   "execution_count": 89,
   "metadata": {},
   "outputs": [
    {
     "data": {
      "text/html": [
       "<div>\n",
       "<style>\n",
       "    .dataframe thead tr:only-child th {\n",
       "        text-align: right;\n",
       "    }\n",
       "\n",
       "    .dataframe thead th {\n",
       "        text-align: left;\n",
       "    }\n",
       "\n",
       "    .dataframe tbody tr th {\n",
       "        vertical-align: top;\n",
       "    }\n",
       "</style>\n",
       "<table border=\"1\" class=\"dataframe\">\n",
       "  <thead>\n",
       "    <tr style=\"text-align: right;\">\n",
       "      <th></th>\n",
       "      <th>c1</th>\n",
       "      <th>c2</th>\n",
       "      <th>c3</th>\n",
       "      <th>c4</th>\n",
       "      <th>c5</th>\n",
       "    </tr>\n",
       "  </thead>\n",
       "  <tbody>\n",
       "    <tr>\n",
       "      <th>A</th>\n",
       "      <td>1.366642</td>\n",
       "      <td>1.201137</td>\n",
       "      <td>-2.038773</td>\n",
       "      <td>-0.722937</td>\n",
       "      <td>-0.886050</td>\n",
       "    </tr>\n",
       "    <tr>\n",
       "      <th>B</th>\n",
       "      <td>0.106106</td>\n",
       "      <td>1.428908</td>\n",
       "      <td>-0.174537</td>\n",
       "      <td>1.730078</td>\n",
       "      <td>-1.038694</td>\n",
       "    </tr>\n",
       "    <tr>\n",
       "      <th>C</th>\n",
       "      <td>NaN</td>\n",
       "      <td>NaN</td>\n",
       "      <td>NaN</td>\n",
       "      <td>NaN</td>\n",
       "      <td>NaN</td>\n",
       "    </tr>\n",
       "    <tr>\n",
       "      <th>D</th>\n",
       "      <td>0.364653</td>\n",
       "      <td>1.013020</td>\n",
       "      <td>-0.863185</td>\n",
       "      <td>0.818745</td>\n",
       "      <td>-0.243224</td>\n",
       "    </tr>\n",
       "    <tr>\n",
       "      <th>E</th>\n",
       "      <td>-0.375569</td>\n",
       "      <td>0.552746</td>\n",
       "      <td>-1.059193</td>\n",
       "      <td>-0.712527</td>\n",
       "      <td>-0.246313</td>\n",
       "    </tr>\n",
       "    <tr>\n",
       "      <th>F</th>\n",
       "      <td>1.326508</td>\n",
       "      <td>-0.935854</td>\n",
       "      <td>-0.507606</td>\n",
       "      <td>0.792201</td>\n",
       "      <td>0.991326</td>\n",
       "    </tr>\n",
       "  </tbody>\n",
       "</table>\n",
       "</div>"
      ],
      "text/plain": [
       "         c1        c2        c3        c4        c5\n",
       "A  1.366642  1.201137 -2.038773 -0.722937 -0.886050\n",
       "B  0.106106  1.428908 -0.174537  1.730078 -1.038694\n",
       "C       NaN       NaN       NaN       NaN       NaN\n",
       "D  0.364653  1.013020 -0.863185  0.818745 -0.243224\n",
       "E -0.375569  0.552746 -1.059193 -0.712527 -0.246313\n",
       "F  1.326508 -0.935854 -0.507606  0.792201  0.991326"
      ]
     },
     "execution_count": 89,
     "metadata": {},
     "output_type": "execute_result"
    }
   ],
   "source": [
    "dfram2"
   ]
  },
  {
   "cell_type": "code",
   "execution_count": 90,
   "metadata": {},
   "outputs": [
    {
     "data": {
      "text/html": [
       "<div>\n",
       "<style>\n",
       "    .dataframe thead tr:only-child th {\n",
       "        text-align: right;\n",
       "    }\n",
       "\n",
       "    .dataframe thead th {\n",
       "        text-align: left;\n",
       "    }\n",
       "\n",
       "    .dataframe tbody tr th {\n",
       "        vertical-align: top;\n",
       "    }\n",
       "</style>\n",
       "<table border=\"1\" class=\"dataframe\">\n",
       "  <thead>\n",
       "    <tr style=\"text-align: right;\">\n",
       "      <th></th>\n",
       "      <th>c1</th>\n",
       "      <th>c2</th>\n",
       "      <th>c3</th>\n",
       "      <th>c4</th>\n",
       "      <th>c5</th>\n",
       "      <th>c6</th>\n",
       "    </tr>\n",
       "  </thead>\n",
       "  <tbody>\n",
       "    <tr>\n",
       "      <th>A</th>\n",
       "      <td>1.366642</td>\n",
       "      <td>1.201137</td>\n",
       "      <td>-2.038773</td>\n",
       "      <td>-0.722937</td>\n",
       "      <td>-0.886050</td>\n",
       "      <td>NaN</td>\n",
       "    </tr>\n",
       "    <tr>\n",
       "      <th>B</th>\n",
       "      <td>0.106106</td>\n",
       "      <td>1.428908</td>\n",
       "      <td>-0.174537</td>\n",
       "      <td>1.730078</td>\n",
       "      <td>-1.038694</td>\n",
       "      <td>NaN</td>\n",
       "    </tr>\n",
       "    <tr>\n",
       "      <th>C</th>\n",
       "      <td>NaN</td>\n",
       "      <td>NaN</td>\n",
       "      <td>NaN</td>\n",
       "      <td>NaN</td>\n",
       "      <td>NaN</td>\n",
       "      <td>NaN</td>\n",
       "    </tr>\n",
       "    <tr>\n",
       "      <th>D</th>\n",
       "      <td>0.364653</td>\n",
       "      <td>1.013020</td>\n",
       "      <td>-0.863185</td>\n",
       "      <td>0.818745</td>\n",
       "      <td>-0.243224</td>\n",
       "      <td>NaN</td>\n",
       "    </tr>\n",
       "    <tr>\n",
       "      <th>E</th>\n",
       "      <td>-0.375569</td>\n",
       "      <td>0.552746</td>\n",
       "      <td>-1.059193</td>\n",
       "      <td>-0.712527</td>\n",
       "      <td>-0.246313</td>\n",
       "      <td>NaN</td>\n",
       "    </tr>\n",
       "    <tr>\n",
       "      <th>F</th>\n",
       "      <td>1.326508</td>\n",
       "      <td>-0.935854</td>\n",
       "      <td>-0.507606</td>\n",
       "      <td>0.792201</td>\n",
       "      <td>0.991326</td>\n",
       "      <td>NaN</td>\n",
       "    </tr>\n",
       "  </tbody>\n",
       "</table>\n",
       "</div>"
      ],
      "text/plain": [
       "         c1        c2        c3        c4        c5  c6\n",
       "A  1.366642  1.201137 -2.038773 -0.722937 -0.886050 NaN\n",
       "B  0.106106  1.428908 -0.174537  1.730078 -1.038694 NaN\n",
       "C       NaN       NaN       NaN       NaN       NaN NaN\n",
       "D  0.364653  1.013020 -0.863185  0.818745 -0.243224 NaN\n",
       "E -0.375569  0.552746 -1.059193 -0.712527 -0.246313 NaN\n",
       "F  1.326508 -0.935854 -0.507606  0.792201  0.991326 NaN"
      ]
     },
     "execution_count": 90,
     "metadata": {},
     "output_type": "execute_result"
    }
   ],
   "source": [
    "dfram2.reindex(columns=['c1','c2','c3','c4','c5','c6'])"
   ]
  },
  {
   "cell_type": "code",
   "execution_count": 93,
   "metadata": {},
   "outputs": [
    {
     "data": {
      "text/html": [
       "<div>\n",
       "<style>\n",
       "    .dataframe thead tr:only-child th {\n",
       "        text-align: right;\n",
       "    }\n",
       "\n",
       "    .dataframe thead th {\n",
       "        text-align: left;\n",
       "    }\n",
       "\n",
       "    .dataframe tbody tr th {\n",
       "        vertical-align: top;\n",
       "    }\n",
       "</style>\n",
       "<table border=\"1\" class=\"dataframe\">\n",
       "  <thead>\n",
       "    <tr style=\"text-align: right;\">\n",
       "      <th></th>\n",
       "      <th>c1</th>\n",
       "      <th>c2</th>\n",
       "      <th>c3</th>\n",
       "      <th>c4</th>\n",
       "      <th>c5</th>\n",
       "      <th>c6</th>\n",
       "    </tr>\n",
       "  </thead>\n",
       "  <tbody>\n",
       "    <tr>\n",
       "      <th>A</th>\n",
       "      <td>1.366642</td>\n",
       "      <td>1.201137</td>\n",
       "      <td>-2.038773</td>\n",
       "      <td>-0.722937</td>\n",
       "      <td>-0.886050</td>\n",
       "      <td>NaN</td>\n",
       "    </tr>\n",
       "    <tr>\n",
       "      <th>B</th>\n",
       "      <td>0.106106</td>\n",
       "      <td>1.428908</td>\n",
       "      <td>-0.174537</td>\n",
       "      <td>1.730078</td>\n",
       "      <td>-1.038694</td>\n",
       "      <td>NaN</td>\n",
       "    </tr>\n",
       "    <tr>\n",
       "      <th>C</th>\n",
       "      <td>NaN</td>\n",
       "      <td>NaN</td>\n",
       "      <td>NaN</td>\n",
       "      <td>NaN</td>\n",
       "      <td>NaN</td>\n",
       "      <td>NaN</td>\n",
       "    </tr>\n",
       "    <tr>\n",
       "      <th>D</th>\n",
       "      <td>0.364653</td>\n",
       "      <td>1.013020</td>\n",
       "      <td>-0.863185</td>\n",
       "      <td>0.818745</td>\n",
       "      <td>-0.243224</td>\n",
       "      <td>NaN</td>\n",
       "    </tr>\n",
       "    <tr>\n",
       "      <th>E</th>\n",
       "      <td>-0.375569</td>\n",
       "      <td>0.552746</td>\n",
       "      <td>-1.059193</td>\n",
       "      <td>-0.712527</td>\n",
       "      <td>-0.246313</td>\n",
       "      <td>NaN</td>\n",
       "    </tr>\n",
       "    <tr>\n",
       "      <th>F</th>\n",
       "      <td>1.326508</td>\n",
       "      <td>-0.935854</td>\n",
       "      <td>-0.507606</td>\n",
       "      <td>0.792201</td>\n",
       "      <td>0.991326</td>\n",
       "      <td>NaN</td>\n",
       "    </tr>\n",
       "  </tbody>\n",
       "</table>\n",
       "</div>"
      ],
      "text/plain": [
       "         c1        c2        c3        c4        c5  c6\n",
       "A  1.366642  1.201137 -2.038773 -0.722937 -0.886050 NaN\n",
       "B  0.106106  1.428908 -0.174537  1.730078 -1.038694 NaN\n",
       "C       NaN       NaN       NaN       NaN       NaN NaN\n",
       "D  0.364653  1.013020 -0.863185  0.818745 -0.243224 NaN\n",
       "E -0.375569  0.552746 -1.059193 -0.712527 -0.246313 NaN\n",
       "F  1.326508 -0.935854 -0.507606  0.792201  0.991326 NaN"
      ]
     },
     "execution_count": 93,
     "metadata": {},
     "output_type": "execute_result"
    }
   ],
   "source": [
    "dfram.ix[['A','B','C','D','E','F'],['c1','c2','c3','c4','c5','c6']]#why we like this"
   ]
  },
  {
   "cell_type": "code",
   "execution_count": 97,
   "metadata": {
    "collapsed": true
   },
   "outputs": [],
   "source": [
    "#multi selection \n"
   ]
  },
  {
   "cell_type": "code",
   "execution_count": 98,
   "metadata": {},
   "outputs": [
    {
     "data": {
      "text/html": [
       "<div>\n",
       "<style>\n",
       "    .dataframe thead tr:only-child th {\n",
       "        text-align: right;\n",
       "    }\n",
       "\n",
       "    .dataframe thead th {\n",
       "        text-align: left;\n",
       "    }\n",
       "\n",
       "    .dataframe tbody tr th {\n",
       "        vertical-align: top;\n",
       "    }\n",
       "</style>\n",
       "<table border=\"1\" class=\"dataframe\">\n",
       "  <thead>\n",
       "    <tr style=\"text-align: right;\">\n",
       "      <th></th>\n",
       "      <th>c1</th>\n",
       "      <th>c2</th>\n",
       "      <th>c3</th>\n",
       "      <th>c4</th>\n",
       "      <th>c5</th>\n",
       "    </tr>\n",
       "  </thead>\n",
       "  <tbody>\n",
       "    <tr>\n",
       "      <th>A</th>\n",
       "      <td>True</td>\n",
       "      <td>True</td>\n",
       "      <td>False</td>\n",
       "      <td>False</td>\n",
       "      <td>False</td>\n",
       "    </tr>\n",
       "    <tr>\n",
       "      <th>B</th>\n",
       "      <td>True</td>\n",
       "      <td>True</td>\n",
       "      <td>False</td>\n",
       "      <td>True</td>\n",
       "      <td>False</td>\n",
       "    </tr>\n",
       "    <tr>\n",
       "      <th>D</th>\n",
       "      <td>True</td>\n",
       "      <td>True</td>\n",
       "      <td>False</td>\n",
       "      <td>True</td>\n",
       "      <td>False</td>\n",
       "    </tr>\n",
       "    <tr>\n",
       "      <th>E</th>\n",
       "      <td>False</td>\n",
       "      <td>True</td>\n",
       "      <td>False</td>\n",
       "      <td>False</td>\n",
       "      <td>False</td>\n",
       "    </tr>\n",
       "    <tr>\n",
       "      <th>F</th>\n",
       "      <td>True</td>\n",
       "      <td>False</td>\n",
       "      <td>False</td>\n",
       "      <td>True</td>\n",
       "      <td>True</td>\n",
       "    </tr>\n",
       "  </tbody>\n",
       "</table>\n",
       "</div>"
      ],
      "text/plain": [
       "      c1     c2     c3     c4     c5\n",
       "A   True   True  False  False  False\n",
       "B   True   True  False   True  False\n",
       "D   True   True  False   True  False\n",
       "E  False   True  False  False  False\n",
       "F   True  False  False   True   True"
      ]
     },
     "execution_count": 98,
     "metadata": {},
     "output_type": "execute_result"
    }
   ],
   "source": [
    "dfram >0 "
   ]
  },
  {
   "cell_type": "code",
   "execution_count": 103,
   "metadata": {
    "collapsed": true
   },
   "outputs": [],
   "source": [
    "ps1 = Series([0,1,2],index=['A','B','C'] )"
   ]
  },
  {
   "cell_type": "code",
   "execution_count": 104,
   "metadata": {},
   "outputs": [],
   "source": [
    "ps2 = Series([3,4,5,9],index=['A','B','C','D'] )"
   ]
  },
  {
   "cell_type": "code",
   "execution_count": 105,
   "metadata": {},
   "outputs": [
    {
     "data": {
      "text/plain": [
       "A    3.0\n",
       "B    5.0\n",
       "C    7.0\n",
       "D    NaN\n",
       "dtype: float64"
      ]
     },
     "execution_count": 105,
     "metadata": {},
     "output_type": "execute_result"
    }
   ],
   "source": [
    "ps1+ps2"
   ]
  },
  {
   "cell_type": "code",
   "execution_count": 106,
   "metadata": {},
   "outputs": [
    {
     "data": {
      "text/plain": [
       "A    3.0\n",
       "B    5.0\n",
       "C    7.0\n",
       "D    NaN\n",
       "dtype: float64"
      ]
     },
     "execution_count": 106,
     "metadata": {},
     "output_type": "execute_result"
    }
   ],
   "source": [
    "ps2+ps1"
   ]
  },
  {
   "cell_type": "code",
   "execution_count": 120,
   "metadata": {},
   "outputs": [],
   "source": [
    "sd1= DataFrame(np.arange(16).reshape(4,4),columns=list('ABCD'),index=['ben','nate','bob','paul'])"
   ]
  },
  {
   "cell_type": "code",
   "execution_count": 121,
   "metadata": {},
   "outputs": [
    {
     "data": {
      "text/html": [
       "<div>\n",
       "<style>\n",
       "    .dataframe thead tr:only-child th {\n",
       "        text-align: right;\n",
       "    }\n",
       "\n",
       "    .dataframe thead th {\n",
       "        text-align: left;\n",
       "    }\n",
       "\n",
       "    .dataframe tbody tr th {\n",
       "        vertical-align: top;\n",
       "    }\n",
       "</style>\n",
       "<table border=\"1\" class=\"dataframe\">\n",
       "  <thead>\n",
       "    <tr style=\"text-align: right;\">\n",
       "      <th></th>\n",
       "      <th>A</th>\n",
       "      <th>B</th>\n",
       "      <th>C</th>\n",
       "      <th>D</th>\n",
       "    </tr>\n",
       "  </thead>\n",
       "  <tbody>\n",
       "    <tr>\n",
       "      <th>ben</th>\n",
       "      <td>0</td>\n",
       "      <td>1</td>\n",
       "      <td>2</td>\n",
       "      <td>3</td>\n",
       "    </tr>\n",
       "    <tr>\n",
       "      <th>nate</th>\n",
       "      <td>4</td>\n",
       "      <td>5</td>\n",
       "      <td>6</td>\n",
       "      <td>7</td>\n",
       "    </tr>\n",
       "    <tr>\n",
       "      <th>bob</th>\n",
       "      <td>8</td>\n",
       "      <td>9</td>\n",
       "      <td>10</td>\n",
       "      <td>11</td>\n",
       "    </tr>\n",
       "    <tr>\n",
       "      <th>paul</th>\n",
       "      <td>12</td>\n",
       "      <td>13</td>\n",
       "      <td>14</td>\n",
       "      <td>15</td>\n",
       "    </tr>\n",
       "  </tbody>\n",
       "</table>\n",
       "</div>"
      ],
      "text/plain": [
       "       A   B   C   D\n",
       "ben    0   1   2   3\n",
       "nate   4   5   6   7\n",
       "bob    8   9  10  11\n",
       "paul  12  13  14  15"
      ]
     },
     "execution_count": 121,
     "metadata": {},
     "output_type": "execute_result"
    }
   ],
   "source": [
    "sd1"
   ]
  },
  {
   "cell_type": "code",
   "execution_count": 122,
   "metadata": {
    "collapsed": true
   },
   "outputs": [],
   "source": [
    "sd2= DataFrame(np.arange(9).reshape(3,3),columns=list('ABC'),index=['ben','nate','paul'])"
   ]
  },
  {
   "cell_type": "code",
   "execution_count": 123,
   "metadata": {},
   "outputs": [
    {
     "data": {
      "text/html": [
       "<div>\n",
       "<style>\n",
       "    .dataframe thead tr:only-child th {\n",
       "        text-align: right;\n",
       "    }\n",
       "\n",
       "    .dataframe thead th {\n",
       "        text-align: left;\n",
       "    }\n",
       "\n",
       "    .dataframe tbody tr th {\n",
       "        vertical-align: top;\n",
       "    }\n",
       "</style>\n",
       "<table border=\"1\" class=\"dataframe\">\n",
       "  <thead>\n",
       "    <tr style=\"text-align: right;\">\n",
       "      <th></th>\n",
       "      <th>A</th>\n",
       "      <th>B</th>\n",
       "      <th>C</th>\n",
       "      <th>D</th>\n",
       "    </tr>\n",
       "  </thead>\n",
       "  <tbody>\n",
       "    <tr>\n",
       "      <th>ben</th>\n",
       "      <td>0.0</td>\n",
       "      <td>2.0</td>\n",
       "      <td>4.0</td>\n",
       "      <td>NaN</td>\n",
       "    </tr>\n",
       "    <tr>\n",
       "      <th>bob</th>\n",
       "      <td>NaN</td>\n",
       "      <td>NaN</td>\n",
       "      <td>NaN</td>\n",
       "      <td>NaN</td>\n",
       "    </tr>\n",
       "    <tr>\n",
       "      <th>nate</th>\n",
       "      <td>7.0</td>\n",
       "      <td>9.0</td>\n",
       "      <td>11.0</td>\n",
       "      <td>NaN</td>\n",
       "    </tr>\n",
       "    <tr>\n",
       "      <th>paul</th>\n",
       "      <td>18.0</td>\n",
       "      <td>20.0</td>\n",
       "      <td>22.0</td>\n",
       "      <td>NaN</td>\n",
       "    </tr>\n",
       "  </tbody>\n",
       "</table>\n",
       "</div>"
      ],
      "text/plain": [
       "         A     B     C   D\n",
       "ben    0.0   2.0   4.0 NaN\n",
       "bob    NaN   NaN   NaN NaN\n",
       "nate   7.0   9.0  11.0 NaN\n",
       "paul  18.0  20.0  22.0 NaN"
      ]
     },
     "execution_count": 123,
     "metadata": {},
     "output_type": "execute_result"
    }
   ],
   "source": [
    "sd1+sd2"
   ]
  },
  {
   "cell_type": "code",
   "execution_count": 125,
   "metadata": {},
   "outputs": [
    {
     "data": {
      "text/html": [
       "<div>\n",
       "<style>\n",
       "    .dataframe thead tr:only-child th {\n",
       "        text-align: right;\n",
       "    }\n",
       "\n",
       "    .dataframe thead th {\n",
       "        text-align: left;\n",
       "    }\n",
       "\n",
       "    .dataframe tbody tr th {\n",
       "        vertical-align: top;\n",
       "    }\n",
       "</style>\n",
       "<table border=\"1\" class=\"dataframe\">\n",
       "  <thead>\n",
       "    <tr style=\"text-align: right;\">\n",
       "      <th></th>\n",
       "      <th>A</th>\n",
       "      <th>B</th>\n",
       "      <th>C</th>\n",
       "      <th>D</th>\n",
       "    </tr>\n",
       "  </thead>\n",
       "  <tbody>\n",
       "    <tr>\n",
       "      <th>ben</th>\n",
       "      <td>0.0</td>\n",
       "      <td>2.0</td>\n",
       "      <td>4.0</td>\n",
       "      <td>3.0</td>\n",
       "    </tr>\n",
       "    <tr>\n",
       "      <th>bob</th>\n",
       "      <td>8.0</td>\n",
       "      <td>9.0</td>\n",
       "      <td>10.0</td>\n",
       "      <td>11.0</td>\n",
       "    </tr>\n",
       "    <tr>\n",
       "      <th>nate</th>\n",
       "      <td>7.0</td>\n",
       "      <td>9.0</td>\n",
       "      <td>11.0</td>\n",
       "      <td>7.0</td>\n",
       "    </tr>\n",
       "    <tr>\n",
       "      <th>paul</th>\n",
       "      <td>18.0</td>\n",
       "      <td>20.0</td>\n",
       "      <td>22.0</td>\n",
       "      <td>15.0</td>\n",
       "    </tr>\n",
       "  </tbody>\n",
       "</table>\n",
       "</div>"
      ],
      "text/plain": [
       "         A     B     C     D\n",
       "ben    0.0   2.0   4.0   3.0\n",
       "bob    8.0   9.0  10.0  11.0\n",
       "nate   7.0   9.0  11.0   7.0\n",
       "paul  18.0  20.0  22.0  15.0"
      ]
     },
     "execution_count": 125,
     "metadata": {},
     "output_type": "execute_result"
    }
   ],
   "source": [
    "sd1.add(sd2,fill_value=0)#what happend "
   ]
  },
  {
   "cell_type": "code",
   "execution_count": 126,
   "metadata": {
    "collapsed": true
   },
   "outputs": [],
   "source": [
    "newser =sd2.ix[0]"
   ]
  },
  {
   "cell_type": "code",
   "execution_count": 127,
   "metadata": {},
   "outputs": [
    {
     "data": {
      "text/plain": [
       "A    0\n",
       "B    1\n",
       "C    2\n",
       "Name: ben, dtype: int64"
      ]
     },
     "execution_count": 127,
     "metadata": {},
     "output_type": "execute_result"
    }
   ],
   "source": [
    "newser"
   ]
  },
  {
   "cell_type": "code",
   "execution_count": 128,
   "metadata": {},
   "outputs": [
    {
     "data": {
      "text/html": [
       "<div>\n",
       "<style>\n",
       "    .dataframe thead tr:only-child th {\n",
       "        text-align: right;\n",
       "    }\n",
       "\n",
       "    .dataframe thead th {\n",
       "        text-align: left;\n",
       "    }\n",
       "\n",
       "    .dataframe tbody tr th {\n",
       "        vertical-align: top;\n",
       "    }\n",
       "</style>\n",
       "<table border=\"1\" class=\"dataframe\">\n",
       "  <thead>\n",
       "    <tr style=\"text-align: right;\">\n",
       "      <th></th>\n",
       "      <th>A</th>\n",
       "      <th>B</th>\n",
       "      <th>C</th>\n",
       "    </tr>\n",
       "  </thead>\n",
       "  <tbody>\n",
       "    <tr>\n",
       "      <th>ben</th>\n",
       "      <td>0</td>\n",
       "      <td>0</td>\n",
       "      <td>0</td>\n",
       "    </tr>\n",
       "    <tr>\n",
       "      <th>nate</th>\n",
       "      <td>3</td>\n",
       "      <td>3</td>\n",
       "      <td>3</td>\n",
       "    </tr>\n",
       "    <tr>\n",
       "      <th>paul</th>\n",
       "      <td>6</td>\n",
       "      <td>6</td>\n",
       "      <td>6</td>\n",
       "    </tr>\n",
       "  </tbody>\n",
       "</table>\n",
       "</div>"
      ],
      "text/plain": [
       "      A  B  C\n",
       "ben   0  0  0\n",
       "nate  3  3  3\n",
       "paul  6  6  6"
      ]
     },
     "execution_count": 128,
     "metadata": {},
     "output_type": "execute_result"
    }
   ],
   "source": [
    "sd2-newser"
   ]
  },
  {
   "cell_type": "code",
   "execution_count": 129,
   "metadata": {},
   "outputs": [
    {
     "data": {
      "text/html": [
       "<div>\n",
       "<style>\n",
       "    .dataframe thead tr:only-child th {\n",
       "        text-align: right;\n",
       "    }\n",
       "\n",
       "    .dataframe thead th {\n",
       "        text-align: left;\n",
       "    }\n",
       "\n",
       "    .dataframe tbody tr th {\n",
       "        vertical-align: top;\n",
       "    }\n",
       "</style>\n",
       "<table border=\"1\" class=\"dataframe\">\n",
       "  <thead>\n",
       "    <tr style=\"text-align: right;\">\n",
       "      <th></th>\n",
       "      <th>A</th>\n",
       "      <th>B</th>\n",
       "      <th>C</th>\n",
       "      <th>D</th>\n",
       "    </tr>\n",
       "  </thead>\n",
       "  <tbody>\n",
       "    <tr>\n",
       "      <th>ben</th>\n",
       "      <td>0</td>\n",
       "      <td>1</td>\n",
       "      <td>2</td>\n",
       "      <td>3</td>\n",
       "    </tr>\n",
       "    <tr>\n",
       "      <th>bob</th>\n",
       "      <td>8</td>\n",
       "      <td>9</td>\n",
       "      <td>10</td>\n",
       "      <td>11</td>\n",
       "    </tr>\n",
       "    <tr>\n",
       "      <th>nate</th>\n",
       "      <td>4</td>\n",
       "      <td>5</td>\n",
       "      <td>6</td>\n",
       "      <td>7</td>\n",
       "    </tr>\n",
       "    <tr>\n",
       "      <th>paul</th>\n",
       "      <td>12</td>\n",
       "      <td>13</td>\n",
       "      <td>14</td>\n",
       "      <td>15</td>\n",
       "    </tr>\n",
       "  </tbody>\n",
       "</table>\n",
       "</div>"
      ],
      "text/plain": [
       "       A   B   C   D\n",
       "ben    0   1   2   3\n",
       "bob    8   9  10  11\n",
       "nate   4   5   6   7\n",
       "paul  12  13  14  15"
      ]
     },
     "execution_count": 129,
     "metadata": {},
     "output_type": "execute_result"
    }
   ],
   "source": [
    "sd1.sort_index()"
   ]
  },
  {
   "cell_type": "code",
   "execution_count": 132,
   "metadata": {},
   "outputs": [
    {
     "data": {
      "text/html": [
       "<div>\n",
       "<style>\n",
       "    .dataframe thead tr:only-child th {\n",
       "        text-align: right;\n",
       "    }\n",
       "\n",
       "    .dataframe thead th {\n",
       "        text-align: left;\n",
       "    }\n",
       "\n",
       "    .dataframe tbody tr th {\n",
       "        vertical-align: top;\n",
       "    }\n",
       "</style>\n",
       "<table border=\"1\" class=\"dataframe\">\n",
       "  <thead>\n",
       "    <tr style=\"text-align: right;\">\n",
       "      <th></th>\n",
       "      <th>A</th>\n",
       "      <th>B</th>\n",
       "      <th>C</th>\n",
       "      <th>D</th>\n",
       "    </tr>\n",
       "  </thead>\n",
       "  <tbody>\n",
       "    <tr>\n",
       "      <th>ben</th>\n",
       "      <td>1.0</td>\n",
       "      <td>1.0</td>\n",
       "      <td>1.0</td>\n",
       "      <td>1.0</td>\n",
       "    </tr>\n",
       "    <tr>\n",
       "      <th>nate</th>\n",
       "      <td>2.0</td>\n",
       "      <td>2.0</td>\n",
       "      <td>2.0</td>\n",
       "      <td>2.0</td>\n",
       "    </tr>\n",
       "    <tr>\n",
       "      <th>bob</th>\n",
       "      <td>3.0</td>\n",
       "      <td>3.0</td>\n",
       "      <td>3.0</td>\n",
       "      <td>3.0</td>\n",
       "    </tr>\n",
       "    <tr>\n",
       "      <th>paul</th>\n",
       "      <td>4.0</td>\n",
       "      <td>4.0</td>\n",
       "      <td>4.0</td>\n",
       "      <td>4.0</td>\n",
       "    </tr>\n",
       "  </tbody>\n",
       "</table>\n",
       "</div>"
      ],
      "text/plain": [
       "        A    B    C    D\n",
       "ben   1.0  1.0  1.0  1.0\n",
       "nate  2.0  2.0  2.0  2.0\n",
       "bob   3.0  3.0  3.0  3.0\n",
       "paul  4.0  4.0  4.0  4.0"
      ]
     },
     "execution_count": 132,
     "metadata": {},
     "output_type": "execute_result"
    }
   ],
   "source": [
    "sd1.rank()"
   ]
  },
  {
   "cell_type": "code",
   "execution_count": 144,
   "metadata": {
    "collapsed": true
   },
   "outputs": [],
   "source": [
    "sdd1= DataFrame(randn(16).reshape(4,4),columns=list('ABCD'),index=['ben','nate','bob','paul'])"
   ]
  },
  {
   "cell_type": "code",
   "execution_count": 145,
   "metadata": {},
   "outputs": [
    {
     "data": {
      "text/html": [
       "<div>\n",
       "<style>\n",
       "    .dataframe thead tr:only-child th {\n",
       "        text-align: right;\n",
       "    }\n",
       "\n",
       "    .dataframe thead th {\n",
       "        text-align: left;\n",
       "    }\n",
       "\n",
       "    .dataframe tbody tr th {\n",
       "        vertical-align: top;\n",
       "    }\n",
       "</style>\n",
       "<table border=\"1\" class=\"dataframe\">\n",
       "  <thead>\n",
       "    <tr style=\"text-align: right;\">\n",
       "      <th></th>\n",
       "      <th>A</th>\n",
       "      <th>B</th>\n",
       "      <th>C</th>\n",
       "      <th>D</th>\n",
       "    </tr>\n",
       "  </thead>\n",
       "  <tbody>\n",
       "    <tr>\n",
       "      <th>ben</th>\n",
       "      <td>0.263132</td>\n",
       "      <td>-0.558934</td>\n",
       "      <td>0.204116</td>\n",
       "      <td>1.387208</td>\n",
       "    </tr>\n",
       "    <tr>\n",
       "      <th>nate</th>\n",
       "      <td>-1.981204</td>\n",
       "      <td>-0.994014</td>\n",
       "      <td>1.324754</td>\n",
       "      <td>-0.276632</td>\n",
       "    </tr>\n",
       "    <tr>\n",
       "      <th>bob</th>\n",
       "      <td>-1.059126</td>\n",
       "      <td>-0.164001</td>\n",
       "      <td>-0.945749</td>\n",
       "      <td>0.050611</td>\n",
       "    </tr>\n",
       "    <tr>\n",
       "      <th>paul</th>\n",
       "      <td>0.042194</td>\n",
       "      <td>-0.575101</td>\n",
       "      <td>0.026193</td>\n",
       "      <td>0.691845</td>\n",
       "    </tr>\n",
       "  </tbody>\n",
       "</table>\n",
       "</div>"
      ],
      "text/plain": [
       "             A         B         C         D\n",
       "ben   0.263132 -0.558934  0.204116  1.387208\n",
       "nate -1.981204 -0.994014  1.324754 -0.276632\n",
       "bob  -1.059126 -0.164001 -0.945749  0.050611\n",
       "paul  0.042194 -0.575101  0.026193  0.691845"
      ]
     },
     "execution_count": 145,
     "metadata": {},
     "output_type": "execute_result"
    }
   ],
   "source": [
    "sdd1"
   ]
  },
  {
   "cell_type": "code",
   "execution_count": 146,
   "metadata": {},
   "outputs": [
    {
     "data": {
      "text/plain": [
       "A   -2.735002\n",
       "B   -2.292050\n",
       "C    0.609314\n",
       "D    1.853031\n",
       "dtype: float64"
      ]
     },
     "execution_count": 146,
     "metadata": {},
     "output_type": "execute_result"
    }
   ],
   "source": [
    "sdd1.sum()"
   ]
  },
  {
   "cell_type": "code",
   "execution_count": 149,
   "metadata": {},
   "outputs": [
    {
     "data": {
      "text/plain": [
       "A    nate\n",
       "B    nate\n",
       "C     bob\n",
       "D    nate\n",
       "dtype: object"
      ]
     },
     "execution_count": 149,
     "metadata": {},
     "output_type": "execute_result"
    }
   ],
   "source": [
    "sdd1.idxmin()"
   ]
  },
  {
   "cell_type": "code",
   "execution_count": 150,
   "metadata": {},
   "outputs": [
    {
     "data": {
      "text/plain": [
       "A   -1.981204\n",
       "B   -0.994014\n",
       "C   -0.945749\n",
       "D   -0.276632\n",
       "dtype: float64"
      ]
     },
     "execution_count": 150,
     "metadata": {},
     "output_type": "execute_result"
    }
   ],
   "source": [
    "sdd1.min()"
   ]
  },
  {
   "cell_type": "code",
   "execution_count": 151,
   "metadata": {},
   "outputs": [
    {
     "data": {
      "text/html": [
       "<div>\n",
       "<style>\n",
       "    .dataframe thead tr:only-child th {\n",
       "        text-align: right;\n",
       "    }\n",
       "\n",
       "    .dataframe thead th {\n",
       "        text-align: left;\n",
       "    }\n",
       "\n",
       "    .dataframe tbody tr th {\n",
       "        vertical-align: top;\n",
       "    }\n",
       "</style>\n",
       "<table border=\"1\" class=\"dataframe\">\n",
       "  <thead>\n",
       "    <tr style=\"text-align: right;\">\n",
       "      <th></th>\n",
       "      <th>A</th>\n",
       "      <th>B</th>\n",
       "      <th>C</th>\n",
       "      <th>D</th>\n",
       "    </tr>\n",
       "  </thead>\n",
       "  <tbody>\n",
       "    <tr>\n",
       "      <th>ben</th>\n",
       "      <td>0.263132</td>\n",
       "      <td>-0.558934</td>\n",
       "      <td>0.204116</td>\n",
       "      <td>1.387208</td>\n",
       "    </tr>\n",
       "    <tr>\n",
       "      <th>nate</th>\n",
       "      <td>-1.718071</td>\n",
       "      <td>-1.552948</td>\n",
       "      <td>1.528870</td>\n",
       "      <td>1.110576</td>\n",
       "    </tr>\n",
       "    <tr>\n",
       "      <th>bob</th>\n",
       "      <td>-2.777197</td>\n",
       "      <td>-1.716949</td>\n",
       "      <td>0.583121</td>\n",
       "      <td>1.161186</td>\n",
       "    </tr>\n",
       "    <tr>\n",
       "      <th>paul</th>\n",
       "      <td>-2.735002</td>\n",
       "      <td>-2.292050</td>\n",
       "      <td>0.609314</td>\n",
       "      <td>1.853031</td>\n",
       "    </tr>\n",
       "  </tbody>\n",
       "</table>\n",
       "</div>"
      ],
      "text/plain": [
       "             A         B         C         D\n",
       "ben   0.263132 -0.558934  0.204116  1.387208\n",
       "nate -1.718071 -1.552948  1.528870  1.110576\n",
       "bob  -2.777197 -1.716949  0.583121  1.161186\n",
       "paul -2.735002 -2.292050  0.609314  1.853031"
      ]
     },
     "execution_count": 151,
     "metadata": {},
     "output_type": "execute_result"
    }
   ],
   "source": [
    "sdd1.cumsum()"
   ]
  },
  {
   "cell_type": "code",
   "execution_count": 152,
   "metadata": {},
   "outputs": [
    {
     "data": {
      "text/html": [
       "<div>\n",
       "<style>\n",
       "    .dataframe thead tr:only-child th {\n",
       "        text-align: right;\n",
       "    }\n",
       "\n",
       "    .dataframe thead th {\n",
       "        text-align: left;\n",
       "    }\n",
       "\n",
       "    .dataframe tbody tr th {\n",
       "        vertical-align: top;\n",
       "    }\n",
       "</style>\n",
       "<table border=\"1\" class=\"dataframe\">\n",
       "  <thead>\n",
       "    <tr style=\"text-align: right;\">\n",
       "      <th></th>\n",
       "      <th>A</th>\n",
       "      <th>B</th>\n",
       "      <th>C</th>\n",
       "      <th>D</th>\n",
       "    </tr>\n",
       "  </thead>\n",
       "  <tbody>\n",
       "    <tr>\n",
       "      <th>count</th>\n",
       "      <td>4.000000</td>\n",
       "      <td>4.000000</td>\n",
       "      <td>4.000000</td>\n",
       "      <td>4.000000</td>\n",
       "    </tr>\n",
       "    <tr>\n",
       "      <th>mean</th>\n",
       "      <td>-0.683751</td>\n",
       "      <td>-0.573012</td>\n",
       "      <td>0.152329</td>\n",
       "      <td>0.463258</td>\n",
       "    </tr>\n",
       "    <tr>\n",
       "      <th>std</th>\n",
       "      <td>1.040492</td>\n",
       "      <td>0.338986</td>\n",
       "      <td>0.930761</td>\n",
       "      <td>0.735675</td>\n",
       "    </tr>\n",
       "    <tr>\n",
       "      <th>min</th>\n",
       "      <td>-1.981204</td>\n",
       "      <td>-0.994014</td>\n",
       "      <td>-0.945749</td>\n",
       "      <td>-0.276632</td>\n",
       "    </tr>\n",
       "    <tr>\n",
       "      <th>25%</th>\n",
       "      <td>-1.289645</td>\n",
       "      <td>-0.679829</td>\n",
       "      <td>-0.216792</td>\n",
       "      <td>-0.031200</td>\n",
       "    </tr>\n",
       "    <tr>\n",
       "      <th>50%</th>\n",
       "      <td>-0.508466</td>\n",
       "      <td>-0.567017</td>\n",
       "      <td>0.115154</td>\n",
       "      <td>0.371228</td>\n",
       "    </tr>\n",
       "    <tr>\n",
       "      <th>75%</th>\n",
       "      <td>0.097429</td>\n",
       "      <td>-0.460201</td>\n",
       "      <td>0.484275</td>\n",
       "      <td>0.865686</td>\n",
       "    </tr>\n",
       "    <tr>\n",
       "      <th>max</th>\n",
       "      <td>0.263132</td>\n",
       "      <td>-0.164001</td>\n",
       "      <td>1.324754</td>\n",
       "      <td>1.387208</td>\n",
       "    </tr>\n",
       "  </tbody>\n",
       "</table>\n",
       "</div>"
      ],
      "text/plain": [
       "              A         B         C         D\n",
       "count  4.000000  4.000000  4.000000  4.000000\n",
       "mean  -0.683751 -0.573012  0.152329  0.463258\n",
       "std    1.040492  0.338986  0.930761  0.735675\n",
       "min   -1.981204 -0.994014 -0.945749 -0.276632\n",
       "25%   -1.289645 -0.679829 -0.216792 -0.031200\n",
       "50%   -0.508466 -0.567017  0.115154  0.371228\n",
       "75%    0.097429 -0.460201  0.484275  0.865686\n",
       "max    0.263132 -0.164001  1.324754  1.387208"
      ]
     },
     "execution_count": 152,
     "metadata": {},
     "output_type": "execute_result"
    }
   ],
   "source": [
    "sdd1.describe()"
   ]
  },
  {
   "cell_type": "code",
   "execution_count": 153,
   "metadata": {
    "collapsed": true
   },
   "outputs": [],
   "source": [
    "from IPython.display import YouTubeVideo\n",
    "\n"
   ]
  },
  {
   "cell_type": "code",
   "execution_count": 154,
   "metadata": {},
   "outputs": [
    {
     "data": {
      "image/jpeg": "[encoded data removed]",
      "text/html": [
       "\n",
       "        <iframe\n",
       "            width=\"400\"\n",
       "            height=\"300\"\n",
       "            src=\"https://www.youtube.com/embed/xGbpuFNR1ME\"\n",
       "            frameborder=\"0\"\n",
       "            allowfullscreen\n",
       "        ></iframe>\n",
       "        "
      ],
      "text/plain": [
       "<IPython.lib.display.YouTubeVideo at 0x10c5e9748>"
      ]
     },
     "execution_count": 154,
     "metadata": {},
     "output_type": "execute_result"
    }
   ],
   "source": [
    "YouTubeVideo('xGbpuFNR1ME')"
   ]
  },
  {
   "cell_type": "code",
   "execution_count": 161,
   "metadata": {},
   "outputs": [
    {
     "name": "stdout",
     "output_type": "stream",
     "text": [
      "Collecting pandas-datareader\n",
      "\u001b[?25l  Downloading https://files.pythonhosted.org/packages/cc/5c/ea5b6dcfd0f55c5fb1e37fb45335ec01cceca199b8a79339137f5ed269e0/pandas_datareader-0.7.0-py2.py3-none-any.whl (111kB)\n",
      "\u001b[K    100% |████████████████████████████████| 112kB 2.3MB/s ta 0:00:01\n",
      "\u001b[?25hRequirement already satisfied: wrapt in /anaconda2/lib/python2.7/site-packages (from pandas-datareader) (1.10.11)\n",
      "Requirement already satisfied: requests>=2.3.0 in /anaconda2/lib/python2.7/site-packages (from pandas-datareader) (2.21.0)\n",
      "Requirement already satisfied: pandas>=0.19.2 in /anaconda2/lib/python2.7/site-packages (from pandas-datareader) (0.23.4)\n",
      "Requirement already satisfied: lxml in /anaconda2/lib/python2.7/site-packages (from pandas-datareader) (4.2.5)\n",
      "Requirement already satisfied: chardet<3.1.0,>=3.0.2 in /anaconda2/lib/python2.7/site-packages (from requests>=2.3.0->pandas-datareader) (3.0.4)\n",
      "Requirement already satisfied: idna<2.9,>=2.5 in /anaconda2/lib/python2.7/site-packages (from requests>=2.3.0->pandas-datareader) (2.8)\n",
      "Requirement already satisfied: certifi>=2017.4.17 in /anaconda2/lib/python2.7/site-packages (from requests>=2.3.0->pandas-datareader) (2018.11.29)\n",
      "Requirement already satisfied: urllib3<1.25,>=1.21.1 in /anaconda2/lib/python2.7/site-packages (from requests>=2.3.0->pandas-datareader) (1.24.1)\n",
      "Requirement already satisfied: python-dateutil>=2.5.0 in /anaconda2/lib/python2.7/site-packages (from pandas>=0.19.2->pandas-datareader) (2.7.5)\n",
      "Requirement already satisfied: pytz>=2011k in /anaconda2/lib/python2.7/site-packages (from pandas>=0.19.2->pandas-datareader) (2018.7)\n",
      "Requirement already satisfied: numpy>=1.9.0 in /anaconda2/lib/python2.7/site-packages (from pandas>=0.19.2->pandas-datareader) (1.15.4)\n",
      "Requirement already satisfied: six>=1.5 in /anaconda2/lib/python2.7/site-packages (from python-dateutil>=2.5.0->pandas>=0.19.2->pandas-datareader) (1.12.0)\n",
      "Installing collected packages: pandas-datareader\n",
      "Successfully installed pandas-datareader-0.7.0\n"
     ]
    }
   ],
   "source": [
    "#import pandas.io.data as pdweb\n",
    "#https://pandas-datareader.readthedocs.io/en/latest/\n",
    "!pip install pandas-datareader"
   ]
  },
  {
   "cell_type": "code",
   "execution_count": 167,
   "metadata": {},
   "outputs": [],
   "source": [
    "from pandas_datareader import data as pdweb"
   ]
  },
  {
   "cell_type": "code",
   "execution_count": 180,
   "metadata": {},
   "outputs": [],
   "source": [
    "prices=pdweb.get_data_yahoo(['AAPL','MSFT','FB'],start=datetime.datetime(2015,1,1),end=datetime.datetime(2018,1,1))['Adj Close']"
   ]
  },
  {
   "cell_type": "code",
   "execution_count": 182,
   "metadata": {},
   "outputs": [
    {
     "data": {
      "text/html": [
       "<div>\n",
       "<style>\n",
       "    .dataframe thead tr:only-child th {\n",
       "        text-align: right;\n",
       "    }\n",
       "\n",
       "    .dataframe thead th {\n",
       "        text-align: left;\n",
       "    }\n",
       "\n",
       "    .dataframe tbody tr th {\n",
       "        vertical-align: top;\n",
       "    }\n",
       "</style>\n",
       "<table border=\"1\" class=\"dataframe\">\n",
       "  <thead>\n",
       "    <tr style=\"text-align: right;\">\n",
       "      <th>Symbols</th>\n",
       "      <th>AAPL</th>\n",
       "      <th>FB</th>\n",
       "      <th>MSFT</th>\n",
       "    </tr>\n",
       "    <tr>\n",
       "      <th>Date</th>\n",
       "      <th></th>\n",
       "      <th></th>\n",
       "      <th></th>\n",
       "    </tr>\n",
       "  </thead>\n",
       "  <tbody>\n",
       "    <tr>\n",
       "      <th>2015-01-02</th>\n",
       "      <td>101.528191</td>\n",
       "      <td>78.449997</td>\n",
       "      <td>42.418739</td>\n",
       "    </tr>\n",
       "    <tr>\n",
       "      <th>2015-01-05</th>\n",
       "      <td>98.667984</td>\n",
       "      <td>77.190002</td>\n",
       "      <td>42.028660</td>\n",
       "    </tr>\n",
       "    <tr>\n",
       "      <th>2015-01-06</th>\n",
       "      <td>98.677261</td>\n",
       "      <td>76.150002</td>\n",
       "      <td>41.411785</td>\n",
       "    </tr>\n",
       "    <tr>\n",
       "      <th>2015-01-07</th>\n",
       "      <td>100.060936</td>\n",
       "      <td>76.150002</td>\n",
       "      <td>41.937946</td>\n",
       "    </tr>\n",
       "    <tr>\n",
       "      <th>2015-01-08</th>\n",
       "      <td>103.905510</td>\n",
       "      <td>78.180000</td>\n",
       "      <td>43.171677</td>\n",
       "    </tr>\n",
       "  </tbody>\n",
       "</table>\n",
       "</div>"
      ],
      "text/plain": [
       "Symbols           AAPL         FB       MSFT\n",
       "Date                                        \n",
       "2015-01-02  101.528191  78.449997  42.418739\n",
       "2015-01-05   98.667984  77.190002  42.028660\n",
       "2015-01-06   98.677261  76.150002  41.411785\n",
       "2015-01-07  100.060936  76.150002  41.937946\n",
       "2015-01-08  103.905510  78.180000  43.171677"
      ]
     },
     "execution_count": 182,
     "metadata": {},
     "output_type": "execute_result"
    }
   ],
   "source": [
    "prices.head()"
   ]
  },
  {
   "cell_type": "code",
   "execution_count": 183,
   "metadata": {
    "collapsed": true
   },
   "outputs": [],
   "source": [
    "volume=pdweb.get_data_yahoo(['AAPL','MSFT','FB'],start=datetime.datetime(2015,1,1),end=datetime.datetime(2018,1,1))['Volume']"
   ]
  },
  {
   "cell_type": "code",
   "execution_count": 184,
   "metadata": {},
   "outputs": [
    {
     "data": {
      "text/html": [
       "<div>\n",
       "<style>\n",
       "    .dataframe thead tr:only-child th {\n",
       "        text-align: right;\n",
       "    }\n",
       "\n",
       "    .dataframe thead th {\n",
       "        text-align: left;\n",
       "    }\n",
       "\n",
       "    .dataframe tbody tr th {\n",
       "        vertical-align: top;\n",
       "    }\n",
       "</style>\n",
       "<table border=\"1\" class=\"dataframe\">\n",
       "  <thead>\n",
       "    <tr style=\"text-align: right;\">\n",
       "      <th>Symbols</th>\n",
       "      <th>AAPL</th>\n",
       "      <th>FB</th>\n",
       "      <th>MSFT</th>\n",
       "    </tr>\n",
       "    <tr>\n",
       "      <th>Date</th>\n",
       "      <th></th>\n",
       "      <th></th>\n",
       "      <th></th>\n",
       "    </tr>\n",
       "  </thead>\n",
       "  <tbody>\n",
       "    <tr>\n",
       "      <th>2015-01-02</th>\n",
       "      <td>53204600.0</td>\n",
       "      <td>18177500.0</td>\n",
       "      <td>27913900.0</td>\n",
       "    </tr>\n",
       "    <tr>\n",
       "      <th>2015-01-05</th>\n",
       "      <td>64285500.0</td>\n",
       "      <td>26452200.0</td>\n",
       "      <td>39673900.0</td>\n",
       "    </tr>\n",
       "    <tr>\n",
       "      <th>2015-01-06</th>\n",
       "      <td>65797100.0</td>\n",
       "      <td>27399300.0</td>\n",
       "      <td>36447900.0</td>\n",
       "    </tr>\n",
       "    <tr>\n",
       "      <th>2015-01-07</th>\n",
       "      <td>40105900.0</td>\n",
       "      <td>22045300.0</td>\n",
       "      <td>29114100.0</td>\n",
       "    </tr>\n",
       "    <tr>\n",
       "      <th>2015-01-08</th>\n",
       "      <td>59364500.0</td>\n",
       "      <td>23961000.0</td>\n",
       "      <td>29645200.0</td>\n",
       "    </tr>\n",
       "  </tbody>\n",
       "</table>\n",
       "</div>"
      ],
      "text/plain": [
       "Symbols           AAPL          FB        MSFT\n",
       "Date                                          \n",
       "2015-01-02  53204600.0  18177500.0  27913900.0\n",
       "2015-01-05  64285500.0  26452200.0  39673900.0\n",
       "2015-01-06  65797100.0  27399300.0  36447900.0\n",
       "2015-01-07  40105900.0  22045300.0  29114100.0\n",
       "2015-01-08  59364500.0  23961000.0  29645200.0"
      ]
     },
     "execution_count": 184,
     "metadata": {},
     "output_type": "execute_result"
    }
   ],
   "source": [
    "volume.head()"
   ]
  },
  {
   "cell_type": "code",
   "execution_count": 185,
   "metadata": {
    "collapsed": true
   },
   "outputs": [],
   "source": [
    "rect =prices.pct_change()"
   ]
  },
  {
   "cell_type": "code",
   "execution_count": 187,
   "metadata": {},
   "outputs": [
    {
     "data": {
      "text/html": [
       "<div>\n",
       "<style>\n",
       "    .dataframe thead tr:only-child th {\n",
       "        text-align: right;\n",
       "    }\n",
       "\n",
       "    .dataframe thead th {\n",
       "        text-align: left;\n",
       "    }\n",
       "\n",
       "    .dataframe tbody tr th {\n",
       "        vertical-align: top;\n",
       "    }\n",
       "</style>\n",
       "<table border=\"1\" class=\"dataframe\">\n",
       "  <thead>\n",
       "    <tr style=\"text-align: right;\">\n",
       "      <th>Symbols</th>\n",
       "      <th>AAPL</th>\n",
       "      <th>FB</th>\n",
       "      <th>MSFT</th>\n",
       "    </tr>\n",
       "    <tr>\n",
       "      <th>Date</th>\n",
       "      <th></th>\n",
       "      <th></th>\n",
       "      <th></th>\n",
       "    </tr>\n",
       "  </thead>\n",
       "  <tbody>\n",
       "    <tr>\n",
       "      <th>2015-01-02</th>\n",
       "      <td>NaN</td>\n",
       "      <td>NaN</td>\n",
       "      <td>NaN</td>\n",
       "    </tr>\n",
       "    <tr>\n",
       "      <th>2015-01-05</th>\n",
       "      <td>-0.028172</td>\n",
       "      <td>-0.016061</td>\n",
       "      <td>-0.009196</td>\n",
       "    </tr>\n",
       "    <tr>\n",
       "      <th>2015-01-06</th>\n",
       "      <td>0.000094</td>\n",
       "      <td>-0.013473</td>\n",
       "      <td>-0.014677</td>\n",
       "    </tr>\n",
       "    <tr>\n",
       "      <th>2015-01-07</th>\n",
       "      <td>0.014022</td>\n",
       "      <td>0.000000</td>\n",
       "      <td>0.012706</td>\n",
       "    </tr>\n",
       "    <tr>\n",
       "      <th>2015-01-08</th>\n",
       "      <td>0.038422</td>\n",
       "      <td>0.026658</td>\n",
       "      <td>0.029418</td>\n",
       "    </tr>\n",
       "  </tbody>\n",
       "</table>\n",
       "</div>"
      ],
      "text/plain": [
       "Symbols         AAPL        FB      MSFT\n",
       "Date                                    \n",
       "2015-01-02       NaN       NaN       NaN\n",
       "2015-01-05 -0.028172 -0.016061 -0.009196\n",
       "2015-01-06  0.000094 -0.013473 -0.014677\n",
       "2015-01-07  0.014022  0.000000  0.012706\n",
       "2015-01-08  0.038422  0.026658  0.029418"
      ]
     },
     "execution_count": 187,
     "metadata": {},
     "output_type": "execute_result"
    }
   ],
   "source": [
    "rect.head()"
   ]
  },
  {
   "cell_type": "code",
   "execution_count": 200,
   "metadata": {
    "collapsed": true
   },
   "outputs": [],
   "source": [
    "corr = rect.corr"
   ]
  },
  {
   "cell_type": "code",
   "execution_count": 201,
   "metadata": {
    "collapsed": true
   },
   "outputs": [],
   "source": [
    "%matplotlib inline"
   ]
  },
  {
   "cell_type": "code",
   "execution_count": 202,
   "metadata": {},
   "outputs": [
    {
     "data": {
      "text/plain": [
       "<matplotlib.axes._subplots.AxesSubplot at 0x1146b7908>"
      ]
     },
     "execution_count": 202,
     "metadata": {},
     "output_type": "execute_result"
    },
    {
     "data": {
      "image/png": "[encoded data removed]",
      "text/plain": [
       "<matplotlib.figure.Figure at 0x1146bfac8>"
      ]
     },
     "metadata": {},
     "output_type": "display_data"
    }
   ],
   "source": [
    "prices.plot()"
   ]
  },
  {
   "cell_type": "code",
   "execution_count": 194,
   "metadata": {},
   "outputs": [],
   "source": [
    "import seaborn as sns"
   ]
  },
  {
   "cell_type": "code",
   "execution_count": 195,
   "metadata": {
    "collapsed": true
   },
   "outputs": [],
   "source": [
    "import matplotlib.pyplot as plt "
   ]
  },
  {
   "cell_type": "code",
   "execution_count": 209,
   "metadata": {},
   "outputs": [
    {
     "data": {
      "text/plain": [
       "<matplotlib.axes._subplots.AxesSubplot at 0x113abe4e0>"
      ]
     },
     "execution_count": 209,
     "metadata": {},
     "output_type": "execute_result"
    },
    {
     "data": {
      "image/png": "[encoded data removed]",
      "text/plain": [
       "<matplotlib.figure.Figure at 0x113def8d0>"
      ]
     },
     "metadata": {},
     "output_type": "display_data"
    }
   ],
   "source": [
    "sns.heatmap(rect,annot=False)"
   ]
  },
  {
   "cell_type": "code",
   "execution_count": 203,
   "metadata": {},
   "outputs": [
    {
     "data": {
      "text/plain": [
       "<bound method DataFrame.corr of Symbols         AAPL        FB      MSFT\n",
       "Date                                    \n",
       "2015-01-02       NaN       NaN       NaN\n",
       "2015-01-05 -0.028172 -0.016061 -0.009196\n",
       "2015-01-06  0.000094 -0.013473 -0.014677\n",
       "2015-01-07  0.014022  0.000000  0.012706\n",
       "2015-01-08  0.038422  0.026658  0.029418\n",
       "2015-01-09  0.001072 -0.005628 -0.008405\n",
       "2015-01-12 -0.024641 -0.013121 -0.012503\n",
       "2015-01-13  0.008879 -0.003519 -0.005150\n",
       "2015-01-14 -0.003811 -0.002224 -0.008628\n",
       "2015-01-15 -0.027140 -0.029234 -0.010444\n",
       "2015-01-16 -0.007770  0.015260  0.016711\n",
       "2015-01-20  0.025757  0.014099  0.003244\n",
       "2015-01-21  0.007634  0.006558 -0.010132\n",
       "2015-01-22  0.026015  0.011858  0.026350\n",
       "2015-01-23  0.005160  0.002318  0.001061\n",
       "2015-01-26  0.001062 -0.004240 -0.003603\n",
       "2015-01-27 -0.035013 -0.022194 -0.092534\n",
       "2015-01-28  0.056533  0.006070 -0.034459\n",
       "2015-01-29  0.031133  0.023085  0.019908\n",
       "2015-01-30 -0.014634 -0.026795 -0.038324\n",
       "2015-02-02  0.012547 -0.012120  0.021782\n",
       "2015-02-03  0.000169  0.005467  0.007752\n",
       "2015-02-04  0.007669  0.003050  0.005769\n",
       "2015-02-05  0.007137 -0.000264  0.014579\n",
       "2015-02-06 -0.008421 -0.015077 -0.000942\n",
       "2015-02-09  0.006642 -0.000403 -0.001179\n",
       "2015-02-10  0.019212  0.010075  0.005666\n",
       "2015-02-11  0.023439  0.017556 -0.005164\n",
       "2015-02-12  0.012652 -0.003660  0.016753\n",
       "2015-02-13  0.004903 -0.006428  0.018102\n",
       "...              ...       ...       ...\n",
       "2017-11-17 -0.005552 -0.003285 -0.009615\n",
       "2017-11-20 -0.000999 -0.001452  0.001578\n",
       "2017-11-21  0.018590  0.017455  0.014419\n",
       "2017-11-22  0.010512 -0.005444 -0.007286\n",
       "2017-11-24  0.000057  0.010560  0.001805\n",
       "2017-11-27 -0.005030  0.001368  0.007327\n",
       "2017-11-28 -0.005859 -0.003333  0.012042\n",
       "2017-11-29 -0.020743 -0.039963 -0.018143\n",
       "2017-11-30  0.013984  0.011706  0.009959\n",
       "2017-12-01 -0.004655 -0.011739  0.001069\n",
       "2017-12-04 -0.007308 -0.020731 -0.037740\n",
       "2017-12-05 -0.000942  0.007931  0.006290\n",
       "2017-12-06 -0.003714  0.018689  0.014585\n",
       "2017-12-07  0.001834  0.023174 -0.003503\n",
       "2017-12-08  0.000295 -0.006328  0.020245\n",
       "2017-12-11  0.019484  0.000223  0.012714\n",
       "2017-12-12 -0.005618 -0.011617  0.004106\n",
       "2017-12-13  0.003320  0.007572 -0.002687\n",
       "2017-12-14 -0.000290  0.000505 -0.007733\n",
       "2017-12-15  0.010162  0.010034  0.025505\n",
       "2017-12-18  0.014083  0.003552 -0.005412\n",
       "2017-12-19 -0.010656 -0.007245 -0.006367\n",
       "2017-12-20 -0.001089 -0.009025 -0.003612\n",
       "2017-12-21  0.003785 -0.002473 -0.000234\n",
       "2017-12-22  0.000000 -0.001409  0.000117\n",
       "2017-12-26 -0.025370 -0.006828 -0.001286\n",
       "2017-12-27  0.000176  0.009262  0.003630\n",
       "2017-12-28  0.002814  0.001689  0.000117\n",
       "2017-12-29 -0.010814 -0.008206 -0.002100\n",
       "2018-01-02  0.017904  0.028108  0.004793\n",
       "\n",
       "[756 rows x 3 columns]>"
      ]
     },
     "execution_count": 203,
     "metadata": {},
     "output_type": "execute_result"
    }
   ],
   "source": [
    "corr"
   ]
  },
  {
   "cell_type": "code",
   "execution_count": null,
   "metadata": {
    "collapsed": true
   },
   "outputs": [],
   "source": []
  }
 ],
 "metadata": {
  "kernelspec": {
   "display_name": "Python 3",
   "language": "python",
   "name": "python3"
  },
  "language_info": {
   "codemirror_mode": {
    "name": "ipython",
    "version": 3
   },
   "file_extension": ".py",
   "mimetype": "text/x-python",
   "name": "python",
   "nbconvert_exporter": "python",
   "pygments_lexer": "ipython3",
   "version": "3.6.7"
  }
 },
 "nbformat": 4,
 "nbformat_minor": 2
}
